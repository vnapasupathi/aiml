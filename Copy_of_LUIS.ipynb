{
  "nbformat": 4,
  "nbformat_minor": 0,
  "metadata": {
    "colab": {
      "name": "Copy of LUIS.ipynb",
      "provenance": [],
      "include_colab_link": true
    },
    "kernelspec": {
      "name": "python3",
      "display_name": "Python 3"
    }
  },
  "cells": [
    {
      "cell_type": "markdown",
      "metadata": {
        "id": "view-in-github",
        "colab_type": "text"
      },
      "source": [
        "<a href=\"https://colab.research.google.com/github/vnapasupathi/aiml/blob/main/Copy_of_LUIS.ipynb\" target=\"_parent\"><img src=\"https://colab.research.google.com/assets/colab-badge.svg\" alt=\"Open In Colab\"/></a>"
      ]
    },
    {
      "cell_type": "markdown",
      "metadata": {
        "id": "XwkHpJ5IWP7V"
      },
      "source": [
        "# Language Understanding Intelligent Service"
      ]
    },
    {
      "cell_type": "code",
      "metadata": {
        "id": "gf3EymdSRXHa"
      },
      "source": [
        "endpoint = 'https://lpaluis.cognitiveservices.azure.com/luis/prediction/v3.0/apps/caf713d1-02d2-43ba-839b-4e9a496c3420/slots/production/predict?subscription-key=7789ea57c9f84e45b12fe4955ed84f50&verbose=true&show-all-intents=true&log=true&query='"
      ],
      "execution_count": null,
      "outputs": []
    },
    {
      "cell_type": "code",
      "metadata": {
        "id": "6Bb_bamiRczW"
      },
      "source": [
        "import json, requests"
      ],
      "execution_count": null,
      "outputs": []
    },
    {
      "cell_type": "code",
      "metadata": {
        "colab": {
          "base_uri": "https://localhost:8080/"
        },
        "id": "Dmgn2YXmRqXL",
        "outputId": "aa57a512-56fe-4c65-f582-eef9c5382bdb"
      },
      "source": [
        "query = input('Please write the command: ')\n",
        "\n",
        "request_url = endpoint + query.replace(' ', '+')\n",
        "\n",
        "response = requests.get(request_url)\n",
        "jsonData = response.content.decode('UTF-8')\n",
        "data = json.loads(jsonData)\n",
        "\n",
        "print(data)"
      ],
      "execution_count": null,
      "outputs": [
        {
          "output_type": "stream",
          "text": [
            "Please write the command: good night\n",
            "{'query': 'good night', 'prediction': {'topIntent': 'OpenShades', 'intents': {'OpenShades': {'score': 0.592126667}, 'None': {'score': 0.06930984}, 'CloseShades': {'score': 0.0337166637}}, 'entities': {}}}\n"
          ],
          "name": "stdout"
        }
      ]
    },
    {
      "cell_type": "code",
      "metadata": {
        "colab": {
          "base_uri": "https://localhost:8080/"
        },
        "id": "jrNWMhAQSnsJ",
        "outputId": "9c9070f2-c359-42d2-8d27-ef8b30ff5909"
      },
      "source": [
        "intent = data['prediction']['topIntent']\n",
        "print(intent)"
      ],
      "execution_count": null,
      "outputs": [
        {
          "output_type": "stream",
          "text": [
            "OpenShades\n"
          ],
          "name": "stdout"
        }
      ]
    },
    {
      "cell_type": "code",
      "metadata": {
        "colab": {
          "base_uri": "https://localhost:8080/"
        },
        "id": "9c6BqCGRTMma",
        "outputId": "185ecd1a-be76-47a9-8573-d351be9773ad"
      },
      "source": [
        "if(intent == 'OpenShades'):\n",
        "  print('Opening the shades...')\n",
        "elif(intent == 'CloseShades'):\n",
        "  print('Closing the shades...')\n",
        "else:\n",
        "  print(\"Sorry, I didn't catch that\")"
      ],
      "execution_count": null,
      "outputs": [
        {
          "output_type": "stream",
          "text": [
            "Opening the shades...\n"
          ],
          "name": "stdout"
        }
      ]
    },
    {
      "cell_type": "code",
      "metadata": {
        "id": "VEGu3lFOTnfB"
      },
      "source": [
        ""
      ],
      "execution_count": null,
      "outputs": []
    }
  ]
}