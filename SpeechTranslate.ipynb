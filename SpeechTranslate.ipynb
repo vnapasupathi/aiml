{
  "nbformat": 4,
  "nbformat_minor": 0,
  "metadata": {
    "kernelspec": {
      "display_name": "Python 3",
      "language": "python",
      "name": "python3"
    },
    "language_info": {
      "codemirror_mode": {
        "name": "ipython",
        "version": 3
      },
      "file_extension": ".py",
      "mimetype": "text/x-python",
      "name": "python",
      "nbconvert_exporter": "python",
      "pygments_lexer": "ipython3",
      "version": "3.8.5"
    },
    "colab": {
      "name": "SpeechTranslate",
      "provenance": [],
      "include_colab_link": true
    }
  },
  "cells": [
    {
      "cell_type": "markdown",
      "metadata": {
        "id": "view-in-github",
        "colab_type": "text"
      },
      "source": [
        "<a href=\"https://colab.research.google.com/github/vnapasupathi/aiml/blob/main/SpeechTranslate.ipynb\" target=\"_parent\"><img src=\"https://colab.research.google.com/assets/colab-badge.svg\" alt=\"Open In Colab\"/></a>"
      ]
    },
    {
      "cell_type": "markdown",
      "metadata": {
        "id": "nWSlyV0po4Fj"
      },
      "source": [
        "# Speech Translate"
      ]
    },
    {
      "cell_type": "code",
      "metadata": {
        "id": "Ex-Py9Uno4Fq",
        "outputId": "b0ed6c8d-5803-49b1-d721-27a47e14e4c4"
      },
      "source": [
        "!pip install azure-cognitiveservices-speech"
      ],
      "execution_count": null,
      "outputs": [
        {
          "output_type": "stream",
          "text": [
            "Collecting azure-cognitiveservices-speech\n",
            "  Downloading azure_cognitiveservices_speech-1.14.0-cp38-cp38-win_amd64.whl (1.7 MB)\n",
            "Installing collected packages: azure-cognitiveservices-speech\n",
            "Successfully installed azure-cognitiveservices-speech-1.14.0\n"
          ],
          "name": "stdout"
        }
      ]
    },
    {
      "cell_type": "code",
      "metadata": {
        "id": "fZhmdIH5o4Fs"
      },
      "source": [
        "import os\n",
        "import azure.cognitiveservices.speech as speechsdk"
      ],
      "execution_count": null,
      "outputs": []
    },
    {
      "cell_type": "code",
      "metadata": {
        "id": "L5pagxXko4Ft"
      },
      "source": [
        "speech_key = '71b70ef808444cf0926f46f44dbd4d9b'\n",
        "speech_region = 'southcentralus'"
      ],
      "execution_count": null,
      "outputs": []
    },
    {
      "cell_type": "code",
      "metadata": {
        "id": "hA4AIsgio4Ft"
      },
      "source": [
        "from_language = 'en-US'\n",
        "to_language = ['es', 'zh-Hans']"
      ],
      "execution_count": null,
      "outputs": []
    },
    {
      "cell_type": "code",
      "metadata": {
        "id": "rXc0FfpGo4Fu",
        "outputId": "cff803bd-76b8-42eb-f846-c5758695b414"
      },
      "source": [
        "config = speechsdk.translation.SpeechTranslationConfig(subscription=speech_key, region=speech_region)\n",
        "config.speech_recognition_language = from_language\n",
        "for lan in to_language:\n",
        "    config.add_target_language(lan)\n",
        "\n",
        "recognizer = speechsdk.translation.TranslationRecognizer(translation_config=config)\n",
        "\n",
        "print('Start talking....')\n",
        "result = recognizer.recognize_once()\n",
        "print(result)"
      ],
      "execution_count": null,
      "outputs": [
        {
          "output_type": "stream",
          "text": [
            "Start talking....\n",
            "TranslationRecognitionResult(result_id=bc6bb51d61d94cb2993412e6a8573f64, translations={'es': 'Si yo fuera a ejecutar esto y puedo empezar a hablar, en teoría deberíamos recibir un par de traducciones en español y en chino, vamos a ver.', 'zh-Hans': '如果我运行这个，我可以开始说话，理论上，我们应该收到一些西班牙语和中文的翻译，让我们看看。'}, reason=ResultReason.TranslatedSpeech)\n"
          ],
          "name": "stdout"
        }
      ]
    },
    {
      "cell_type": "code",
      "metadata": {
        "id": "DI4yrdFBo4Fu",
        "outputId": "b67ff077-59a5-4a10-e536-0505dd384c7f"
      },
      "source": [
        "print(result.text + ' translated to:')\n",
        "for lan in to_language:\n",
        "    print(lan + ': ' + result.translations[lan])"
      ],
      "execution_count": null,
      "outputs": [
        {
          "output_type": "stream",
          "text": [
            "If I were to run this and I can just start talking, in theory we should receive a couple of translations in Spanish and in Chinese, let's see. translated to:\n",
            "es: Si yo fuera a ejecutar esto y puedo empezar a hablar, en teoría deberíamos recibir un par de traducciones en español y en chino, vamos a ver.\n",
            "zh-Hans: 如果我运行这个，我可以开始说话，理论上，我们应该收到一些西班牙语和中文的翻译，让我们看看。\n"
          ],
          "name": "stdout"
        }
      ]
    },
    {
      "cell_type": "code",
      "metadata": {
        "id": "2Hmzjp99o4Fv"
      },
      "source": [
        ""
      ],
      "execution_count": null,
      "outputs": []
    }
  ]
}