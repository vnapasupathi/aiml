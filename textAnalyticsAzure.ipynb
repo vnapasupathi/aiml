{
  "nbformat": 4,
  "nbformat_minor": 0,
  "metadata": {
    "colab": {
      "name": "textAnalyticsAzure.ipynb",
      "provenance": [],
      "collapsed_sections": [],
      "authorship_tag": "ABX9TyMeukFVcCffPELDD/V2YeRe",
      "include_colab_link": true
    },
    "kernelspec": {
      "name": "python3",
      "display_name": "Python 3"
    }
  },
  "cells": [
    {
      "cell_type": "markdown",
      "metadata": {
        "id": "view-in-github",
        "colab_type": "text"
      },
      "source": [
        "<a href=\"https://colab.research.google.com/github/vnapasupathi/aiml/blob/main/textAnalyticsAzure.ipynb\" target=\"_parent\"><img src=\"https://colab.research.google.com/assets/colab-badge.svg\" alt=\"Open In Colab\"/></a>"
      ]
    },
    {
      "cell_type": "code",
      "metadata": {
        "id": "o0BaAfvSoGlN"
      },
      "source": [
        "textAnalyticsEndpoint = 'https://vnatextanalytics1.cognitiveservices.azure.com/'\r\n",
        "textAnalyticsURL = '//vnatextanalytics1.cognitiveservices.azure.com/'\r\n",
        "textAnalyticsKey = '34ab098c4bf84af9a45d340c8005494e'"
      ],
      "execution_count": 26,
      "outputs": []
    },
    {
      "cell_type": "code",
      "metadata": {
        "id": "9S0bIB3_pMzR"
      },
      "source": [
        "headers = {\r\n",
        "    'Content-Type' : 'application/json',\r\n",
        "    'Ocp-Apim-Subscription-Key' : textAnalyticsKey,\r\n",
        "    'Accept' : 'application/json'\r\n",
        "}\r\n",
        "body = {\r\n",
        "    'documents' : [\r\n",
        "                   {\r\n",
        "                       'language' : 'en',\r\n",
        "                       'id' : 1,\r\n",
        "                       'text' : 'Oops this is not good'\r\n",
        "                   },\r\n",
        "                   {\r\n",
        "                       'language' : 'en',\r\n",
        "                       'id' : 2,\r\n",
        "                       'text' : 'yep super i got a long term project and i am very happy'\r\n",
        "                   }\r\n",
        "    ]\r\n",
        "}"
      ],
      "execution_count": 2,
      "outputs": []
    },
    {
      "cell_type": "code",
      "metadata": {
        "id": "jnv_g3cCrJ0T"
      },
      "source": [
        "import urllib.request, http.client, urllib.parse, urllib.error, json"
      ],
      "execution_count": 3,
      "outputs": []
    },
    {
      "cell_type": "code",
      "metadata": {
        "colab": {
          "base_uri": "https://localhost:8080/"
        },
        "id": "13YYemVxrjLc",
        "outputId": "4d718e79-38dc-413f-889c-f13f9cfd3645"
      },
      "source": [
        "params = urllib.parse.urlencode({})\r\n",
        "\r\n",
        "try:\r\n",
        "  conn = http.client.HTTPSConnection(textAnalyticsURL)\r\n",
        "  conn.request(\"POST\", \"/text/analytics/v2.1/sentiment?%s\" % params, str(body), headers)\r\n",
        "  response = conn.getresponse()\r\n",
        "  jsonData = response.read().decode(\"UTF-8\")\r\n",
        "  data = json.load(jsonData)\r\n",
        "  for document in data['documents']:\r\n",
        "    sentiment = \"positive\"\r\n",
        "    if document['score'] <= 0.5:\r\n",
        "      sentiment = \"negative\"\r\n",
        "    print(\"Document \" + document['id'] + \" has \" + sentiment + \" sentiment\")\r\n",
        "    conn.close()\r\n",
        "except Exception as ex:\r\n",
        "  print(ex.strerror)\r\n",
        "  #print(\"[Errno {0}] {1}\".format(ex.errno, ex.strerror))"
      ],
      "execution_count": 27,
      "outputs": [
        {
          "output_type": "stream",
          "text": [
            "Name or service not known\n"
          ],
          "name": "stdout"
        }
      ]
    }
  ]
}