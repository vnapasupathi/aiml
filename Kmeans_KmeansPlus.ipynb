{
  "nbformat": 4,
  "nbformat_minor": 0,
  "metadata": {
    "colab": {
      "name": "Untitled7.ipynb",
      "provenance": [],
      "authorship_tag": "ABX9TyOsxeO0zh+UJoYMh3aaQIec",
      "include_colab_link": true
    },
    "kernelspec": {
      "name": "python3",
      "display_name": "Python 3"
    }
  },
  "cells": [
    {
      "cell_type": "markdown",
      "metadata": {
        "id": "view-in-github",
        "colab_type": "text"
      },
      "source": [
        "<a href=\"https://colab.research.google.com/github/vnapasupathi/aiml/blob/main/Kmeans_KmeansPlus.ipynb\" target=\"_parent\"><img src=\"https://colab.research.google.com/assets/colab-badge.svg\" alt=\"Open In Colab\"/></a>"
      ]
    },
    {
      "cell_type": "code",
      "metadata": {
        "id": "g6TuIAzsTtQv"
      },
      "source": [
        "from pandas import DataFrame\r\n",
        "import matplotlib.pyplot as plt\r\n",
        "from sklearn.cluster import KMeans\r\n",
        "\r\n",
        "points = {'A': [13,14,2,5,23,27,66,1,69,62],\r\n",
        "        'B': [9,29,15,24,70,71,45,42,22,10]\r\n",
        "       }\r\n",
        "  \r\n",
        "data = DataFrame(points,columns=['A','B'])\r\n",
        "  \r\n",
        "kpoints = KMeans(n_clusters=3, init='random').fit(data)\r\n",
        "center = kpoints.cluster_centers_\r\n",
        "print(center)\r\n",
        "\r\n",
        "plt.scatter(data['A'], data['B'], c= kpoints.labels_.astype(float), s=50, alpha=0.5)\r\n",
        "plt.scatter(center[:, 0], center[:, 1], c='black', s=50)\r\n",
        "plt.show()"
      ],
      "execution_count": null,
      "outputs": []
    }
  ]
}