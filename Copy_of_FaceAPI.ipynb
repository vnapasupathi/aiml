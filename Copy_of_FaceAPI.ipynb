{
  "nbformat": 4,
  "nbformat_minor": 0,
  "metadata": {
    "colab": {
      "name": "Copy of FaceAPI.ipynb",
      "provenance": [],
      "collapsed_sections": [],
      "include_colab_link": true
    },
    "kernelspec": {
      "name": "python3",
      "display_name": "Python 3"
    }
  },
  "cells": [
    {
      "cell_type": "markdown",
      "metadata": {
        "id": "view-in-github",
        "colab_type": "text"
      },
      "source": [
        "<a href=\"https://colab.research.google.com/github/vnapasupathi/aiml/blob/main/Copy_of_FaceAPI.ipynb\" target=\"_parent\"><img src=\"https://colab.research.google.com/assets/colab-badge.svg\" alt=\"Open In Colab\"/></a>"
      ]
    },
    {
      "cell_type": "markdown",
      "metadata": {
        "id": "AKzKzQL_PAx7"
      },
      "source": [
        "# Detect Faces"
      ]
    },
    {
      "cell_type": "code",
      "metadata": {
        "id": "6tcESTiXEwfX"
      },
      "source": [
        "subscription_key = '59ac877e8e164ecdae5e5f1465f7eea9'"
      ],
      "execution_count": 2,
      "outputs": []
    },
    {
      "cell_type": "code",
      "metadata": {
        "colab": {
          "base_uri": "https://localhost:8080/"
        },
        "id": "mZAoizP1E4mZ",
        "outputId": "726bb089-b4da-426a-d2e5-aa955eeaa6e4"
      },
      "source": [
        "import urllib.parse, http.client, json\r\n",
        "\r\n",
        "headers = {\r\n",
        "    'Ocp-Apim-subscription-Key':subscription_key,\r\n",
        "    'Content-Type':'application/json'\r\n",
        "}\r\n",
        "\r\n",
        "body = {\r\n",
        "    #'url':'https://upload.wikimedia.org/wikipedia/commons/thumb/0/0f/Angela_Merkel_2019_cropped.jpg/1200px-Angela_Merkel_2019_cropped.jpg'\r\n",
        "    'url' : 'https://miro.medium.com/max/400/0*0UsPnl-kkkqSm3Ct.jpg'\r\n",
        "}\r\n",
        "\r\n",
        "params = urllib.parse.urlencode({\r\n",
        "    'returnFaceId':True,\r\n",
        "    'returnFaceLandmarks':True,\r\n",
        "    'returnFaceAttributes':'age,gender,makeup,smile,glasses,accessories,emotion'\r\n",
        "})\r\n",
        "\r\n",
        "url = 'southeastasia.api.cognitive.microsoft.com'\r\n",
        "\r\n",
        "endpoint = '/face/v1.0/detect?%s'\r\n",
        "\r\n",
        "try:\r\n",
        "  conn = http.client.HTTPSConnection(url)\r\n",
        "  conn.request('POST', endpoint % params, str(body), headers)\r\n",
        "  response = conn.getresponse()\r\n",
        "  jsonData = response.read()\r\n",
        "  data = json.loads(jsonData)\r\n",
        "  detect_face_id = data[0]['faceId']\r\n",
        "  print(json.dumps(data, sort_keys=True, indent=2))\r\n",
        "  conn.close()\r\n",
        "except Exception as ex:\r\n",
        "  print(ex)"
      ],
      "execution_count": 4,
      "outputs": [
        {
          "output_type": "stream",
          "text": [
            "[\n",
            "  {\n",
            "    \"faceAttributes\": {\n",
            "      \"accessories\": [],\n",
            "      \"age\": 46.0,\n",
            "      \"emotion\": {\n",
            "        \"anger\": 0.0,\n",
            "        \"contempt\": 0.0,\n",
            "        \"disgust\": 0.0,\n",
            "        \"fear\": 0.0,\n",
            "        \"happiness\": 1.0,\n",
            "        \"neutral\": 0.0,\n",
            "        \"sadness\": 0.0,\n",
            "        \"surprise\": 0.0\n",
            "      },\n",
            "      \"gender\": \"male\",\n",
            "      \"glasses\": \"NoGlasses\",\n",
            "      \"makeup\": {\n",
            "        \"eyeMakeup\": true,\n",
            "        \"lipMakeup\": false\n",
            "      },\n",
            "      \"smile\": 1.0\n",
            "    },\n",
            "    \"faceId\": \"3a2bf240-61b3-4b9b-af86-811678cbe174\",\n",
            "    \"faceLandmarks\": {\n",
            "      \"eyeLeftBottom\": {\n",
            "        \"x\": 171.1,\n",
            "        \"y\": 107.0\n",
            "      },\n",
            "      \"eyeLeftInner\": {\n",
            "        \"x\": 179.7,\n",
            "        \"y\": 106.3\n",
            "      },\n",
            "      \"eyeLeftOuter\": {\n",
            "        \"x\": 164.2,\n",
            "        \"y\": 104.3\n",
            "      },\n",
            "      \"eyeLeftTop\": {\n",
            "        \"x\": 170.9,\n",
            "        \"y\": 101.6\n",
            "      },\n",
            "      \"eyeRightBottom\": {\n",
            "        \"x\": 217.1,\n",
            "        \"y\": 113.9\n",
            "      },\n",
            "      \"eyeRightInner\": {\n",
            "        \"x\": 210.3,\n",
            "        \"y\": 111.1\n",
            "      },\n",
            "      \"eyeRightOuter\": {\n",
            "        \"x\": 223.8,\n",
            "        \"y\": 113.2\n",
            "      },\n",
            "      \"eyeRightTop\": {\n",
            "        \"x\": 217.8,\n",
            "        \"y\": 108.6\n",
            "      },\n",
            "      \"eyebrowLeftInner\": {\n",
            "        \"x\": 189.3,\n",
            "        \"y\": 95.3\n",
            "      },\n",
            "      \"eyebrowLeftOuter\": {\n",
            "        \"x\": 153.3,\n",
            "        \"y\": 94.3\n",
            "      },\n",
            "      \"eyebrowRightInner\": {\n",
            "        \"x\": 209.3,\n",
            "        \"y\": 99.1\n",
            "      },\n",
            "      \"eyebrowRightOuter\": {\n",
            "        \"x\": 234.1,\n",
            "        \"y\": 103.1\n",
            "      },\n",
            "      \"mouthLeft\": {\n",
            "        \"x\": 169.7,\n",
            "        \"y\": 152.6\n",
            "      },\n",
            "      \"mouthRight\": {\n",
            "        \"x\": 214.4,\n",
            "        \"y\": 157.2\n",
            "      },\n",
            "      \"noseLeftAlarOutTip\": {\n",
            "        \"x\": 179.6,\n",
            "        \"y\": 128.6\n",
            "      },\n",
            "      \"noseLeftAlarTop\": {\n",
            "        \"x\": 185.9,\n",
            "        \"y\": 121.5\n",
            "      },\n",
            "      \"noseRightAlarOutTip\": {\n",
            "        \"x\": 212.7,\n",
            "        \"y\": 131.4\n",
            "      },\n",
            "      \"noseRightAlarTop\": {\n",
            "        \"x\": 208.2,\n",
            "        \"y\": 123.9\n",
            "      },\n",
            "      \"noseRootLeft\": {\n",
            "        \"x\": 189.6,\n",
            "        \"y\": 107.7\n",
            "      },\n",
            "      \"noseRootRight\": {\n",
            "        \"x\": 203.5,\n",
            "        \"y\": 109.3\n",
            "      },\n",
            "      \"noseTip\": {\n",
            "        \"x\": 200.6,\n",
            "        \"y\": 128.0\n",
            "      },\n",
            "      \"pupilLeft\": {\n",
            "        \"x\": 172.2,\n",
            "        \"y\": 104.6\n",
            "      },\n",
            "      \"pupilRight\": {\n",
            "        \"x\": 217.0,\n",
            "        \"y\": 111.2\n",
            "      },\n",
            "      \"underLipBottom\": {\n",
            "        \"x\": 195.2,\n",
            "        \"y\": 168.3\n",
            "      },\n",
            "      \"underLipTop\": {\n",
            "        \"x\": 195.4,\n",
            "        \"y\": 162.3\n",
            "      },\n",
            "      \"upperLipBottom\": {\n",
            "        \"x\": 195.9,\n",
            "        \"y\": 149.8\n",
            "      },\n",
            "      \"upperLipTop\": {\n",
            "        \"x\": 196.2,\n",
            "        \"y\": 145.2\n",
            "      }\n",
            "    },\n",
            "    \"faceRectangle\": {\n",
            "      \"height\": 103,\n",
            "      \"left\": 143,\n",
            "      \"top\": 78,\n",
            "      \"width\": 103\n",
            "    }\n",
            "  }\n",
            "]\n"
          ],
          "name": "stdout"
        }
      ]
    },
    {
      "cell_type": "markdown",
      "metadata": {
        "id": "pc976GNcPEA_"
      },
      "source": [
        "# Create a Group"
      ]
    },
    {
      "cell_type": "code",
      "metadata": {
        "colab": {
          "base_uri": "https://localhost:8080/"
        },
        "id": "9DTQjOXnG4_r",
        "outputId": "60819312-5dbe-4b47-f2c6-c70dd38f81b1"
      },
      "source": [
        "group_id = 'random_people'\r\n",
        "\r\n",
        "group_body = {\r\n",
        "    'name':'Random People'\r\n",
        "}\r\n",
        "\r\n",
        "try:\r\n",
        "  conn = http.client.HTTPSConnection(url)\r\n",
        "  conn.request('PUT', '/face/v1.0/persongroups/%s' % group_id, str(group_body), headers)\r\n",
        "  response = conn.getresponse()\r\n",
        "  data = response.read()\r\n",
        "  print(data)\r\n",
        "  conn.close()\r\n",
        "except Exception as ex:\r\n",
        "  print(ex)"
      ],
      "execution_count": 5,
      "outputs": [
        {
          "output_type": "stream",
          "text": [
            "b''\n"
          ],
          "name": "stdout"
        }
      ]
    },
    {
      "cell_type": "markdown",
      "metadata": {
        "id": "NZnOL5capTKe"
      },
      "source": [
        "# Adding person to group"
      ]
    },
    {
      "cell_type": "code",
      "metadata": {
        "colab": {
          "base_uri": "https://localhost:8080/"
        },
        "id": "wvMDion-TdcN",
        "outputId": "b22598b3-da21-4bad-b099-190e9124785c"
      },
      "source": [
        "person_body = {\r\n",
        "    #'name':'Elizabeth'\r\n",
        "    'name':'Vadivelu'\r\n",
        "}\r\n",
        "\r\n",
        "person_endpoint = '/face/v1.0/persongroups/{0}/persons'.format(group_id)\r\n",
        "\r\n",
        "try:\r\n",
        "  conn = http.client.HTTPSConnection(url)\r\n",
        "  conn.request('POST', person_endpoint, str(person_body), headers)\r\n",
        "  response = conn.getresponse()\r\n",
        "  jsonData = response.read()\r\n",
        "  data = json.loads(jsonData)\r\n",
        "  print(data)\r\n",
        "  conn.close()\r\n",
        "except Exception as ex:\r\n",
        "  print(ex)"
      ],
      "execution_count": 6,
      "outputs": [
        {
          "output_type": "stream",
          "text": [
            "{'personId': '9ce92f4f-0e34-4a18-895f-b08a963b59fc'}\n"
          ],
          "name": "stdout"
        }
      ]
    },
    {
      "cell_type": "code",
      "metadata": {
        "colab": {
          "base_uri": "https://localhost:8080/"
        },
        "id": "ujJqS2t8p8Wd",
        "outputId": "4f0a6647-5715-43a1-c79b-82289406606b"
      },
      "source": [
        "group_id = 'random_people'\r\n",
        "\r\n",
        "endpoint = '/face/v1.0/persongroups/{0}/persons'.format(group_id)\r\n",
        "\r\n",
        "try:\r\n",
        "  conn = http.client.HTTPSConnection(url)\r\n",
        "  conn.request('GET', endpoint, '', headers)\r\n",
        "  response = conn.getresponse()\r\n",
        "  jsonData = response.read()\r\n",
        "  person_data = json.loads(jsonData)\r\n",
        "  print(json.dumps(person_data, sort_keys=True, indent=2))\r\n",
        "  conn.close()\r\n",
        "except Exception as ex:\r\n",
        "  print(ex)"
      ],
      "execution_count": 7,
      "outputs": [
        {
          "output_type": "stream",
          "text": [
            "[\n",
            "  {\n",
            "    \"name\": \"Vadivelu\",\n",
            "    \"persistedFaceIds\": [],\n",
            "    \"personId\": \"9ce92f4f-0e34-4a18-895f-b08a963b59fc\"\n",
            "  }\n",
            "]\n"
          ],
          "name": "stdout"
        }
      ]
    },
    {
      "cell_type": "code",
      "metadata": {
        "colab": {
          "base_uri": "https://localhost:8080/"
        },
        "id": "K0Se4o_6sMwA",
        "outputId": "24ec3a21-ee2f-4417-88c3-fa6b425792cc"
      },
      "source": [
        "try:\r\n",
        "  conn = http.client.HTTPSConnection(url)\r\n",
        "  conn.request('DELETE', endpoint + '/9ce92f4f-0e34-4a18-895f-b08a963b59fc', str(person_body), headers)\r\n",
        "  response = conn.getresponse()\r\n",
        "  jsonData = response.read()\r\n",
        "  print(jsonData)\r\n",
        "  conn.close()\r\n",
        "except Exception as ex:\r\n",
        "  print(ex)"
      ],
      "execution_count": 9,
      "outputs": [
        {
          "output_type": "stream",
          "text": [
            "b''\n"
          ],
          "name": "stdout"
        }
      ]
    },
    {
      "cell_type": "markdown",
      "metadata": {
        "id": "DiaGPX4Cr00p"
      },
      "source": [
        "# Adding faces to a person"
      ]
    },
    {
      "cell_type": "code",
      "metadata": {
        "colab": {
          "base_uri": "https://localhost:8080/",
          "height": 241
        },
        "id": "IOOchh28qSwW",
        "outputId": "9d8f9e51-769e-4384-bec7-1fecca86478d"
      },
      "source": [
        "import os\r\n",
        "\r\n",
        "person_group_id = 'random_people'\r\n",
        "\r\n",
        "url = 'southeastasia.api.cognitive.microsoft.com'\r\n",
        "\r\n",
        "headers = {\r\n",
        "    'Ocp-Apim-subscription-Key':subscription_key,\r\n",
        "    'Content-Type':'application/octet-stream'\r\n",
        "}\r\n",
        "\r\n",
        "for person in person_data:\r\n",
        "  face_endpoint = '/face/v1.0/persongroups/{0}/persons/{1}/persistedFaces'.format(group_id, person['personId'])\r\n",
        "  for file in os.listdir('people/'+person['name']):\r\n",
        "    with open('people/{0}/{1}'.format(person['name'], file), 'rb') as body:\r\n",
        "      conn = http.client.HTTPSConnection(url)\r\n",
        "      conn.request('POST', face_endpoint, body, headers)\r\n",
        "      response = conn.getresponse()\r\n",
        "      jsonData = response.read()\r\n",
        "      data = json.loads(jsonData)\r\n",
        "      print(data)\r\n",
        "      conn.close()"
      ],
      "execution_count": 10,
      "outputs": [
        {
          "output_type": "error",
          "ename": "FileNotFoundError",
          "evalue": "ignored",
          "traceback": [
            "\u001b[0;31m---------------------------------------------------------------------------\u001b[0m",
            "\u001b[0;31mFileNotFoundError\u001b[0m                         Traceback (most recent call last)",
            "\u001b[0;32m<ipython-input-10-bb6127fd9db5>\u001b[0m in \u001b[0;36m<module>\u001b[0;34m()\u001b[0m\n\u001b[1;32m     12\u001b[0m \u001b[0;32mfor\u001b[0m \u001b[0mperson\u001b[0m \u001b[0;32min\u001b[0m \u001b[0mperson_data\u001b[0m\u001b[0;34m:\u001b[0m\u001b[0;34m\u001b[0m\u001b[0;34m\u001b[0m\u001b[0m\n\u001b[1;32m     13\u001b[0m   \u001b[0mface_endpoint\u001b[0m \u001b[0;34m=\u001b[0m \u001b[0;34m'/face/v1.0/persongroups/{0}/persons/{1}/persistedFaces'\u001b[0m\u001b[0;34m.\u001b[0m\u001b[0mformat\u001b[0m\u001b[0;34m(\u001b[0m\u001b[0mgroup_id\u001b[0m\u001b[0;34m,\u001b[0m \u001b[0mperson\u001b[0m\u001b[0;34m[\u001b[0m\u001b[0;34m'personId'\u001b[0m\u001b[0;34m]\u001b[0m\u001b[0;34m)\u001b[0m\u001b[0;34m\u001b[0m\u001b[0;34m\u001b[0m\u001b[0m\n\u001b[0;32m---> 14\u001b[0;31m   \u001b[0;32mfor\u001b[0m \u001b[0mfile\u001b[0m \u001b[0;32min\u001b[0m \u001b[0mos\u001b[0m\u001b[0;34m.\u001b[0m\u001b[0mlistdir\u001b[0m\u001b[0;34m(\u001b[0m\u001b[0;34m'people/'\u001b[0m\u001b[0;34m+\u001b[0m\u001b[0mperson\u001b[0m\u001b[0;34m[\u001b[0m\u001b[0;34m'name'\u001b[0m\u001b[0;34m]\u001b[0m\u001b[0;34m)\u001b[0m\u001b[0;34m:\u001b[0m\u001b[0;34m\u001b[0m\u001b[0;34m\u001b[0m\u001b[0m\n\u001b[0m\u001b[1;32m     15\u001b[0m     \u001b[0;32mwith\u001b[0m \u001b[0mopen\u001b[0m\u001b[0;34m(\u001b[0m\u001b[0;34m'people/{0}/{1}'\u001b[0m\u001b[0;34m.\u001b[0m\u001b[0mformat\u001b[0m\u001b[0;34m(\u001b[0m\u001b[0mperson\u001b[0m\u001b[0;34m[\u001b[0m\u001b[0;34m'name'\u001b[0m\u001b[0;34m]\u001b[0m\u001b[0;34m,\u001b[0m \u001b[0mfile\u001b[0m\u001b[0;34m)\u001b[0m\u001b[0;34m,\u001b[0m \u001b[0;34m'rb'\u001b[0m\u001b[0;34m)\u001b[0m \u001b[0;32mas\u001b[0m \u001b[0mbody\u001b[0m\u001b[0;34m:\u001b[0m\u001b[0;34m\u001b[0m\u001b[0;34m\u001b[0m\u001b[0m\n\u001b[1;32m     16\u001b[0m       \u001b[0mconn\u001b[0m \u001b[0;34m=\u001b[0m \u001b[0mhttp\u001b[0m\u001b[0;34m.\u001b[0m\u001b[0mclient\u001b[0m\u001b[0;34m.\u001b[0m\u001b[0mHTTPSConnection\u001b[0m\u001b[0;34m(\u001b[0m\u001b[0murl\u001b[0m\u001b[0;34m)\u001b[0m\u001b[0;34m\u001b[0m\u001b[0;34m\u001b[0m\u001b[0m\n",
            "\u001b[0;31mFileNotFoundError\u001b[0m: [Errno 2] No such file or directory: 'people/Vadivelu'"
          ]
        }
      ]
    },
    {
      "cell_type": "markdown",
      "metadata": {
        "id": "_QdmSRIxLy5z"
      },
      "source": [
        "# Identifying people"
      ]
    },
    {
      "cell_type": "code",
      "metadata": {
        "colab": {
          "base_uri": "https://localhost:8080/"
        },
        "id": "zqd0PMf4u5E-",
        "outputId": "1b7c85c8-e7ea-468d-8bc4-5a4b624067c7"
      },
      "source": [
        "import urllib.parse, http.client, json\r\n",
        "\r\n",
        "url = 'southeastasia.api.cognitive.microsoft.com'\r\n",
        "\r\n",
        "train_headers = {\r\n",
        "    'Ocp-Apim-subscription-Key':subscription_key,\r\n",
        "}\r\n",
        "\r\n",
        "person_group_id = 'random_people'\r\n",
        "train_endpoint = '/face/v1.0/persongroups/{0}/train'.format(person_group_id)\r\n",
        "\r\n",
        "try:\r\n",
        "  conn = http.client.HTTPSConnection(url)\r\n",
        "  conn.request('POST', train_endpoint, '', train_headers)\r\n",
        "  response = conn.getresponse()\r\n",
        "  data = response.read()\r\n",
        "  print(data)\r\n",
        "  conn.close()\r\n",
        "except Exception as ex:\r\n",
        "  print(ex)"
      ],
      "execution_count": 12,
      "outputs": [
        {
          "output_type": "stream",
          "text": [
            "b''\n"
          ],
          "name": "stdout"
        }
      ]
    },
    {
      "cell_type": "code",
      "metadata": {
        "colab": {
          "base_uri": "https://localhost:8080/"
        },
        "id": "y8G7JWfAM2A-",
        "outputId": "a3ef40bd-0033-4ea7-ec2d-fa12c3cffc7f"
      },
      "source": [
        "person_group_id = 'random_people'\r\n",
        "\r\n",
        "identify_endpoint = '/face/v1.0/identify'\r\n",
        "\r\n",
        "identify_headers = {\r\n",
        "    'Ocp-Apim-subscription-Key':subscription_key,\r\n",
        "}\r\n",
        "\r\n",
        "identify_body = {\r\n",
        "    'faceIds':[detect_face_id],\r\n",
        "    'personGroupId':person_group_id\r\n",
        "}\r\n",
        "\r\n",
        "try:\r\n",
        "  conn = http.client.HTTPSConnection(url)\r\n",
        "  conn.request('POST', identify_endpoint, str(identify_body), identify_headers)\r\n",
        "  response = conn.getresponse()\r\n",
        "  jsonData = response.read()\r\n",
        "  identify_data = json.loads(jsonData)\r\n",
        "  print(identify_data)\r\n",
        "  conn.close()\r\n",
        "except Exception as ex:\r\n",
        "  print(ex)"
      ],
      "execution_count": null,
      "outputs": [
        {
          "output_type": "stream",
          "text": [
            "[{'faceId': '74c682a5-1128-4944-a699-df0529539aee', 'candidates': [{'personId': 'c47a577a-b74f-41af-9bd5-52863ad92fb0', 'confidence': 0.8039}]}]\n"
          ],
          "name": "stdout"
        }
      ]
    },
    {
      "cell_type": "code",
      "metadata": {
        "colab": {
          "base_uri": "https://localhost:8080/"
        },
        "id": "6Ix2KVJ87SBn",
        "outputId": "9a7529ba-35d8-4d4d-cf20-41beb0649735"
      },
      "source": [
        "print(person_data)"
      ],
      "execution_count": null,
      "outputs": [
        {
          "output_type": "stream",
          "text": [
            "[{'personId': '29fb53f0-56ad-499d-a9d7-b763b6d938c5', 'persistedFaceIds': ['0aa6f776-ce53-4946-ad68-fd961bdd39ce', '76eb3bbf-13cd-442d-9f5e-72066ada742e', 'fe074a09-621d-4dc9-a6f8-b475990734fb'], 'name': 'Elizabeth'}, {'personId': 'c2f66164-4fbd-4a82-bb52-6ac2d92ce47c', 'persistedFaceIds': ['1b42ee02-81c6-4cbb-89de-52bf1192e317', '4c55c28d-3576-4e94-9a1d-86e4fb3c24d0', '9da318d9-7cde-4c00-a1ec-652c6e33d26c'], 'name': 'Bill'}, {'personId': 'c47a577a-b74f-41af-9bd5-52863ad92fb0', 'persistedFaceIds': ['479e048d-7c02-4a15-9de4-340ee63f047e', 'a7f41db4-4225-412a-98bd-67350b43f285', 'fe8e8cf9-b479-4f66-8c81-a5a31cbc897f'], 'name': 'Angela'}]\n"
          ],
          "name": "stdout"
        }
      ]
    },
    {
      "cell_type": "code",
      "metadata": {
        "colab": {
          "base_uri": "https://localhost:8080/"
        },
        "id": "TOk45qAD8AQz",
        "outputId": "ab5059e9-775a-4464-f71f-b5072940daac"
      },
      "source": [
        "found = False\r\n",
        "identified_person = identify_data[0]\r\n",
        "for candidate in identified_person['candidates']:\r\n",
        "  for person in person_data:\r\n",
        "    if(person['personId'] == candidate['personId']):\r\n",
        "      print('FOUND IT')\r\n",
        "      print('This is ' + person['name'])\r\n",
        "      found = True\r\n",
        "\r\n",
        "if(found == False):\r\n",
        "  print(\"We couldn't find this person\")"
      ],
      "execution_count": null,
      "outputs": [
        {
          "output_type": "stream",
          "text": [
            "FOUND IT\n",
            "This is Angela\n"
          ],
          "name": "stdout"
        }
      ]
    },
    {
      "cell_type": "code",
      "metadata": {
        "id": "G5aMxOHPWoAZ"
      },
      "source": [
        ""
      ],
      "execution_count": null,
      "outputs": []
    }
  ]
}