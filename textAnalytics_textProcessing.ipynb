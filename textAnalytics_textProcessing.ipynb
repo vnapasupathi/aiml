{
  "nbformat": 4,
  "nbformat_minor": 0,
  "metadata": {
    "colab": {
      "name": "textAnalytics_textProcessing.ipynb",
      "provenance": [],
      "collapsed_sections": [],
      "authorship_tag": "ABX9TyO5IBeN/EKOZxzsqgIpvFcR",
      "include_colab_link": true
    },
    "kernelspec": {
      "name": "python3",
      "display_name": "Python 3"
    }
  },
  "cells": [
    {
      "cell_type": "markdown",
      "metadata": {
        "id": "view-in-github",
        "colab_type": "text"
      },
      "source": [
        "<a href=\"https://colab.research.google.com/github/vnapasupathi/aiml/blob/main/textAnalytics_textProcessing.ipynb\" target=\"_parent\"><img src=\"https://colab.research.google.com/assets/colab-badge.svg\" alt=\"Open In Colab\"/></a>"
      ]
    },
    {
      "cell_type": "code",
      "metadata": {
        "colab": {
          "base_uri": "https://localhost:8080/"
        },
        "id": "mCuhQ6E08uMr",
        "outputId": "ec5964d1-ab38-4f65-c910-8506f226d8be"
      },
      "source": [
        "! curl \"https://raw.githubusercontent.com/vnapasupathi/files/main/MartinLSpeech.txt\" -o speech.txt\r\n",
        "document = open(\"speech.txt\", \"r\")\r\n",
        "\r\n",
        "mlk_speech = document.read()\r\n",
        "print (mlk_speech)"
      ],
      "execution_count": 23,
      "outputs": [
        {
          "output_type": "stream",
          "text": [
            "  % Total    % Received % Xferd  Average Speed   Time    Time     Time  Current\n",
            "                                 Dload  Upload   Total   Spent    Left  Speed\n",
            "\r  0     0    0     0    0     0      0      0 --:--:-- --:--:-- --:--:--     0\r100 10954  100 10954    0     0   120k      0 --:--:-- --:--:-- --:--:--  120k\n",
            "In his iconic speech at the Lincoln Memorial for the 1963 March on Washington for Jobs and Freedom, King urged America to \"make real the promises of democracy.\" King synthesized portions of his earlier speeches to capture both the necessity for change and the potential for hope in American society.\n",
            "\n",
            "I am happy to join with you today in what will go down in history as the greatest demonstration for freedom in the history of our nation. [applause]\n",
            "\n",
            "Five score years ago, a great American, in whose symbolic shadow we stand today, signed the Emancipation Proclamation. This momentous decree came as a great beacon light of hope to millions of Negro slaves [Audience:] (Yeah) who had been seared in the flames of withering injustice. It came as a joyous daybreak to end the long night of their captivity. (Hmm)\n",
            "\n",
            "But one hundred years later (All right), the Negro still is not free. (My Lord, Yeah) One hundred years later, the life of the Negro is still sadly crippled by the manacles of segregation and the chains of discrimination. (Hmm) One hundred years later (All right), the Negro lives on a lonely island of poverty in the midst of a vast ocean of material prosperity. One hundred years later (My Lord) [applause], the Negro is still languished in the corners of American society and finds himself in exile in his own land. (Yes, yes) And so we’ve come here today to dramatize a shameful condition.\n",
            "\n",
            "In a sense we’ve come to our nation’s capital to cash a check. When the architects of our republic wrote the magnificent words of the Constitution and the Declaration of Independence (Yeah), they were signing a promissory note to which every American was to fall heir. This note was a promise that all men, yes, black men as well as white men (My Lord), would be guaranteed the unalienable rights of life, liberty, and the pursuit of happiness. It is obvious today that America has defaulted on this promissory note insofar as her citizens of color are concerned. (My Lord) Instead of honoring this sacred obligation, America has given the Negro people a bad check, a check which has come back marked insufficient funds. [enthusiastic applause] (My Lord, Lead on, Speech, speech)\n",
            "\n",
            "But we refuse to believe that the bank of justice is bankrupt. (My Lord) [laughter] (No, no) We refuse to believe that there are insufficient funds in the great vaults of opportunity of this nation. (Sure enough) And so we’ve come to cash this check (Yes), a check that will give us upon demand the riches of freedom (Yes) and the security of justice. (Yes Lord) [enthusiastic applause]\n",
            "\n",
            "We have also come to this hallowed spot (My Lord) to remind America of the fierce urgency of now. (Mhm) This is no time (My Lord) to engage in the luxury of cooling off or to take the tranquilizing drug of gradualism. [applause] (Yes, Speak on it!) Now is the time (Yes it is) to make real the promises of democracy. (My Lord) Now is the time to rise from the dark and desolate valley of segregation to the sunlit path of racial justice. Now is the time [applause] to lift our nation from the quicksands of racial injustice to the solid rock of brotherhood. Now is the time (Yes) [applause] (Now) to make justice a reality for all of God’s children.\n",
            "\n",
            "It would be fatal for the nation to overlook the urgency of the moment. This sweltering summer of the Negro’s legitimate discontent (Yes) will not pass until there is an invigorating autumn of freedom and equality. (My Lord) 1963 is not an end, but a beginning. (Yes) And those who hope that the Negro needed to blow off steam and will now be content will have a rude awakening if the nation returns to business as usual. [enthusiastic applause] There will be neither rest nor tranquility in America until the Negro is granted his citizenship rights. The whirlwinds of revolt will continue to shake the foundations of our nation until the bright day of justice emerges.\n",
            "\n",
            "But there is something that I must say to my people, who stand on the warm threshold which leads into the palace of justice: in the process of gaining our rightful place, we must not be guilty of wrongful deeds. Let us not seek to satisfy our thirst for freedom by drinking from the cup of bitterness and hatred. (My Lord, No, no, no, no) [applause] We must forever conduct our struggle on the high plane of dignity and discipline. We must not allow our creative protest to degenerate into physical violence. (My Lord) Again and again (No, no), we must rise to the majestic heights (Yes) of meeting physical force with soul force. (My Lord) The marvelous new militancy which has engulfed the Negro community must not lead us to a distrust of all white people (Hmm), for many of our white brothers, as evidenced by their presence here today, have come to realize that their destiny is tied up with our destiny [sustained applause], and they have come to realize that their freedom is inextricably bound to our freedom. We cannot walk alone.\n",
            "\n",
            "And as we walk, we must make the pledge that we shall always march ahead. We cannot turn back. There are those who are asking the devotees of civil rights, “When will you be satisfied?” (Never) We can never be satisfied as long as the Negro is the victim of the unspeakable horrors of police brutality. (Yes) We can never be satisfied [applause] as long as our bodies, heavy with the fatigue of travel, cannot gain lodging in the motels of the highways and the hotels of the cities. [applause] We cannot be satisfied as long as the Negro’s basic mobility is from a smaller ghetto to a larger one. (Yes) We can never be satisfied as long as our children are stripped of their selfhood and robbed of their dignity by signs stating for whites only. [applause] (Yes, Hallelujah) We cannot be satisfied as long as a Negro in Mississippi cannot vote and a Negro in New York believes he has nothing for which to vote. (Yeah, That’s right, Let’s go) [applause] No, no, we are not satisfied and we will not be satisfied until justice rolls down like waters (Yes) and righteousness like a mighty stream. [applause] (Let’s go, Tell it)\n",
            "\n",
            "I am not unmindful that some of you have come here out of great trials and tribulations. (My Lord) Some of you have come fresh from narrow jail cells. (My Lord, That’s right) Some of you have come from areas where your quest for freedom left you battered by the storms of persecution (Yeah, Yes) and staggered by the winds of police brutality. You have been the veterans of creative suffering. Continue to work with the faith (Hmm) that unearned suffering is redemptive. Go back to Mississippi (Yeah), go back to Alabama, go back to South Carolina, go back to Georgia, go back to Louisiana, go back to the slums and ghettos of our northern cities (Yes), knowing that somehow this situation can and will be changed. (Yes) Let us not wallow in the valley of despair. (My Lord)\n",
            "\n",
            "I say to you today, my friends [applause], so even though we face the difficulties of today and tomorrow (Uh-huh), I still have a dream. (Yes) It is a dream deeply rooted in the American dream. (Yes)\n",
            "\n",
            "I have a dream (Mhm) that one day (Yes) this nation will rise up and live out the true meaning of its creed (Hah): “We hold these truths to be self-evident, that all men are created equal.” (Yeah, Uh-huh, Hear hear) [applause]\n",
            "\n",
            "I have a dream that one day on the red hills of Georgia (Yes, Talk), the sons of former slaves and the sons of former slave owners will be able to sit down together at the table of brotherhood.\n",
            "\n",
            "I have a dream (Yes) [applause] that one day even the state of Mississippi, a state sweltering with the heat of injustice (Yeah), sweltering with the heat of oppression (Mhm), will be transformed into an oasis of freedom and justice.\n",
            "\n",
            "I have a dream (Yeah) [applause] that my four little children (Well) will one day live in a nation where they will not be judged by the color of their skin but by the content of their character. (My Lord) I have a dream today. [enthusiastic applause]\n",
            "\n",
            "I have a dream that one day down in Alabama, with its vicious racists (Yes, Yeah), with its governor having his lips dripping with the words of “interposition” and “nullification” (Yes), one day right there in Alabama little black boys and black girls will be able to join hands with little white boys and white girls as sisters and brothers. I have a dream today. [applause] (God help him, Preach)\n",
            "\n",
            "I have a dream that one day every valley shall be exalted (Yes), every hill and mountain shall be made low, the rough places will be made plain (Yes), and the crooked places will be made straight (Yes), and the glory of the Lord shall be revealed [cheering], and all flesh shall see it together. (Yes Lord)\n",
            "\n",
            "This is our hope. (Yes, Yes) This is the faith that I go back to the South with. (Yes) With this faith (My Lord) we will be able to hew out of the mountain of despair a stone of hope. (Yes, All right) With this faith (Yes) we will be able to transform the jangling discords of our nation (Yes) into a beautiful symphony of brotherhood. (Talk about it) With this faith (Yes, My Lord) we will be able to work together, to pray together, to struggle together, to go to jail together (Yes), to stand up for freedom together (Yeah), knowing that we will be free one day. [sustained applause]\n",
            "\n",
            "This will be the day, this will be the day when all of God’s children (Yes, Yeah) will be able to sing with new meaning: “My country, ‘tis of thee (Yeah, Yes), sweet land of liberty, of thee I sing. (Oh yes) Land where my fathers died, land of the pilgrim’s pride (Yeah), from every mountainside, let freedom ring!” (Yeah)\n",
            "\n",
            "And if America is to be a great nation (Yes), this must become true. So let freedom ring (Yes, Amen) from the prodigious hilltops of New Hampshire. (Uh-huh) Let freedom ring from the mighty mountains of New York. Let freedom ring from the heightening Alleghenies of Pennsylvania. (Yes, all right) Let freedom ring (Yes) from the snow-capped Rockies of Colorado. (Well) Let freedom ring from the curvaceous slopes of California. (Yes) But not only that: (No) Let freedom ring from Stone Mountain of Georgia. [cheering] (Yeah, Oh yes, Lord) Let freedom ring from Lookout Mountain of Tennessee. (Yes) Let freedom ring from every hill and molehill of Mississippi. (Yes) From every mountainside (Yeah) [sustained applause], let freedom ring.\n",
            "\n",
            "And when this happens [applause] (Let it ring, Let it ring), and when we allow freedom ring (Let it ring), when we let it ring from every village and every hamlet, from every state and every city (Yes Lord), we will be able to speed up that day when all of God’s children (Yeah), black men (Yeah) and white men (Yeah), Jews and Gentiles, Protestants and Catholics (Yes), will be able to join hands and sing in the words of the old Negro spiritual: “Free at last! (Yes) Free at last! Thank God Almighty, we are free at last!” [enthusiastic applause]\n"
          ],
          "name": "stdout"
        }
      ]
    },
    {
      "cell_type": "code",
      "metadata": {
        "colab": {
          "base_uri": "https://localhost:8080/"
        },
        "id": "QNs3c2RiBlTm",
        "outputId": "ad9d22db-87e0-4c62-b0af-87cab5cae803"
      },
      "source": [
        "# remove digits\r\n",
        "\r\n",
        "mlk_speech = ''.join(char for char in mlk_speech if not char.isdigit())\r\n",
        "print(mlk_speech)"
      ],
      "execution_count": 25,
      "outputs": [
        {
          "output_type": "stream",
          "text": [
            "In his iconic speech at the Lincoln Memorial for the  March on Washington for Jobs and Freedom, King urged America to \"make real the promises of democracy.\" King synthesized portions of his earlier speeches to capture both the necessity for change and the potential for hope in American society.\n",
            "\n",
            "I am happy to join with you today in what will go down in history as the greatest demonstration for freedom in the history of our nation. [applause]\n",
            "\n",
            "Five score years ago, a great American, in whose symbolic shadow we stand today, signed the Emancipation Proclamation. This momentous decree came as a great beacon light of hope to millions of Negro slaves [Audience:] (Yeah) who had been seared in the flames of withering injustice. It came as a joyous daybreak to end the long night of their captivity. (Hmm)\n",
            "\n",
            "But one hundred years later (All right), the Negro still is not free. (My Lord, Yeah) One hundred years later, the life of the Negro is still sadly crippled by the manacles of segregation and the chains of discrimination. (Hmm) One hundred years later (All right), the Negro lives on a lonely island of poverty in the midst of a vast ocean of material prosperity. One hundred years later (My Lord) [applause], the Negro is still languished in the corners of American society and finds himself in exile in his own land. (Yes, yes) And so we’ve come here today to dramatize a shameful condition.\n",
            "\n",
            "In a sense we’ve come to our nation’s capital to cash a check. When the architects of our republic wrote the magnificent words of the Constitution and the Declaration of Independence (Yeah), they were signing a promissory note to which every American was to fall heir. This note was a promise that all men, yes, black men as well as white men (My Lord), would be guaranteed the unalienable rights of life, liberty, and the pursuit of happiness. It is obvious today that America has defaulted on this promissory note insofar as her citizens of color are concerned. (My Lord) Instead of honoring this sacred obligation, America has given the Negro people a bad check, a check which has come back marked insufficient funds. [enthusiastic applause] (My Lord, Lead on, Speech, speech)\n",
            "\n",
            "But we refuse to believe that the bank of justice is bankrupt. (My Lord) [laughter] (No, no) We refuse to believe that there are insufficient funds in the great vaults of opportunity of this nation. (Sure enough) And so we’ve come to cash this check (Yes), a check that will give us upon demand the riches of freedom (Yes) and the security of justice. (Yes Lord) [enthusiastic applause]\n",
            "\n",
            "We have also come to this hallowed spot (My Lord) to remind America of the fierce urgency of now. (Mhm) This is no time (My Lord) to engage in the luxury of cooling off or to take the tranquilizing drug of gradualism. [applause] (Yes, Speak on it!) Now is the time (Yes it is) to make real the promises of democracy. (My Lord) Now is the time to rise from the dark and desolate valley of segregation to the sunlit path of racial justice. Now is the time [applause] to lift our nation from the quicksands of racial injustice to the solid rock of brotherhood. Now is the time (Yes) [applause] (Now) to make justice a reality for all of God’s children.\n",
            "\n",
            "It would be fatal for the nation to overlook the urgency of the moment. This sweltering summer of the Negro’s legitimate discontent (Yes) will not pass until there is an invigorating autumn of freedom and equality. (My Lord)  is not an end, but a beginning. (Yes) And those who hope that the Negro needed to blow off steam and will now be content will have a rude awakening if the nation returns to business as usual. [enthusiastic applause] There will be neither rest nor tranquility in America until the Negro is granted his citizenship rights. The whirlwinds of revolt will continue to shake the foundations of our nation until the bright day of justice emerges.\n",
            "\n",
            "But there is something that I must say to my people, who stand on the warm threshold which leads into the palace of justice: in the process of gaining our rightful place, we must not be guilty of wrongful deeds. Let us not seek to satisfy our thirst for freedom by drinking from the cup of bitterness and hatred. (My Lord, No, no, no, no) [applause] We must forever conduct our struggle on the high plane of dignity and discipline. We must not allow our creative protest to degenerate into physical violence. (My Lord) Again and again (No, no), we must rise to the majestic heights (Yes) of meeting physical force with soul force. (My Lord) The marvelous new militancy which has engulfed the Negro community must not lead us to a distrust of all white people (Hmm), for many of our white brothers, as evidenced by their presence here today, have come to realize that their destiny is tied up with our destiny [sustained applause], and they have come to realize that their freedom is inextricably bound to our freedom. We cannot walk alone.\n",
            "\n",
            "And as we walk, we must make the pledge that we shall always march ahead. We cannot turn back. There are those who are asking the devotees of civil rights, “When will you be satisfied?” (Never) We can never be satisfied as long as the Negro is the victim of the unspeakable horrors of police brutality. (Yes) We can never be satisfied [applause] as long as our bodies, heavy with the fatigue of travel, cannot gain lodging in the motels of the highways and the hotels of the cities. [applause] We cannot be satisfied as long as the Negro’s basic mobility is from a smaller ghetto to a larger one. (Yes) We can never be satisfied as long as our children are stripped of their selfhood and robbed of their dignity by signs stating for whites only. [applause] (Yes, Hallelujah) We cannot be satisfied as long as a Negro in Mississippi cannot vote and a Negro in New York believes he has nothing for which to vote. (Yeah, That’s right, Let’s go) [applause] No, no, we are not satisfied and we will not be satisfied until justice rolls down like waters (Yes) and righteousness like a mighty stream. [applause] (Let’s go, Tell it)\n",
            "\n",
            "I am not unmindful that some of you have come here out of great trials and tribulations. (My Lord) Some of you have come fresh from narrow jail cells. (My Lord, That’s right) Some of you have come from areas where your quest for freedom left you battered by the storms of persecution (Yeah, Yes) and staggered by the winds of police brutality. You have been the veterans of creative suffering. Continue to work with the faith (Hmm) that unearned suffering is redemptive. Go back to Mississippi (Yeah), go back to Alabama, go back to South Carolina, go back to Georgia, go back to Louisiana, go back to the slums and ghettos of our northern cities (Yes), knowing that somehow this situation can and will be changed. (Yes) Let us not wallow in the valley of despair. (My Lord)\n",
            "\n",
            "I say to you today, my friends [applause], so even though we face the difficulties of today and tomorrow (Uh-huh), I still have a dream. (Yes) It is a dream deeply rooted in the American dream. (Yes)\n",
            "\n",
            "I have a dream (Mhm) that one day (Yes) this nation will rise up and live out the true meaning of its creed (Hah): “We hold these truths to be self-evident, that all men are created equal.” (Yeah, Uh-huh, Hear hear) [applause]\n",
            "\n",
            "I have a dream that one day on the red hills of Georgia (Yes, Talk), the sons of former slaves and the sons of former slave owners will be able to sit down together at the table of brotherhood.\n",
            "\n",
            "I have a dream (Yes) [applause] that one day even the state of Mississippi, a state sweltering with the heat of injustice (Yeah), sweltering with the heat of oppression (Mhm), will be transformed into an oasis of freedom and justice.\n",
            "\n",
            "I have a dream (Yeah) [applause] that my four little children (Well) will one day live in a nation where they will not be judged by the color of their skin but by the content of their character. (My Lord) I have a dream today. [enthusiastic applause]\n",
            "\n",
            "I have a dream that one day down in Alabama, with its vicious racists (Yes, Yeah), with its governor having his lips dripping with the words of “interposition” and “nullification” (Yes), one day right there in Alabama little black boys and black girls will be able to join hands with little white boys and white girls as sisters and brothers. I have a dream today. [applause] (God help him, Preach)\n",
            "\n",
            "I have a dream that one day every valley shall be exalted (Yes), every hill and mountain shall be made low, the rough places will be made plain (Yes), and the crooked places will be made straight (Yes), and the glory of the Lord shall be revealed [cheering], and all flesh shall see it together. (Yes Lord)\n",
            "\n",
            "This is our hope. (Yes, Yes) This is the faith that I go back to the South with. (Yes) With this faith (My Lord) we will be able to hew out of the mountain of despair a stone of hope. (Yes, All right) With this faith (Yes) we will be able to transform the jangling discords of our nation (Yes) into a beautiful symphony of brotherhood. (Talk about it) With this faith (Yes, My Lord) we will be able to work together, to pray together, to struggle together, to go to jail together (Yes), to stand up for freedom together (Yeah), knowing that we will be free one day. [sustained applause]\n",
            "\n",
            "This will be the day, this will be the day when all of God’s children (Yes, Yeah) will be able to sing with new meaning: “My country, ‘tis of thee (Yeah, Yes), sweet land of liberty, of thee I sing. (Oh yes) Land where my fathers died, land of the pilgrim’s pride (Yeah), from every mountainside, let freedom ring!” (Yeah)\n",
            "\n",
            "And if America is to be a great nation (Yes), this must become true. So let freedom ring (Yes, Amen) from the prodigious hilltops of New Hampshire. (Uh-huh) Let freedom ring from the mighty mountains of New York. Let freedom ring from the heightening Alleghenies of Pennsylvania. (Yes, all right) Let freedom ring (Yes) from the snow-capped Rockies of Colorado. (Well) Let freedom ring from the curvaceous slopes of California. (Yes) But not only that: (No) Let freedom ring from Stone Mountain of Georgia. [cheering] (Yeah, Oh yes, Lord) Let freedom ring from Lookout Mountain of Tennessee. (Yes) Let freedom ring from every hill and molehill of Mississippi. (Yes) From every mountainside (Yeah) [sustained applause], let freedom ring.\n",
            "\n",
            "And when this happens [applause] (Let it ring, Let it ring), and when we allow freedom ring (Let it ring), when we let it ring from every village and every hamlet, from every state and every city (Yes Lord), we will be able to speed up that day when all of God’s children (Yeah), black men (Yeah) and white men (Yeah), Jews and Gentiles, Protestants and Catholics (Yes), will be able to join hands and sing in the words of the old Negro spiritual: “Free at last! (Yes) Free at last! Thank God Almighty, we are free at last!” [enthusiastic applause]\n"
          ],
          "name": "stdout"
        }
      ]
    },
    {
      "cell_type": "code",
      "metadata": {
        "colab": {
          "base_uri": "https://localhost:8080/"
        },
        "id": "mpI34DTtElZP",
        "outputId": "63f2589a-6030-4155-86d9-48371b6ecaf1"
      },
      "source": [
        "# remove punctuation\r\n",
        "\r\n",
        "from string import punctuation\r\n",
        "\r\n",
        "mlk_speech = ''.join(char for char in mlk_speech if char not in punctuation).lower()\r\n",
        "print(mlk_speech)"
      ],
      "execution_count": 27,
      "outputs": [
        {
          "output_type": "stream",
          "text": [
            "in his iconic speech at the lincoln memorial for the  march on washington for jobs and freedom king urged america to make real the promises of democracy king synthesized portions of his earlier speeches to capture both the necessity for change and the potential for hope in american society\n",
            "\n",
            "i am happy to join with you today in what will go down in history as the greatest demonstration for freedom in the history of our nation applause\n",
            "\n",
            "five score years ago a great american in whose symbolic shadow we stand today signed the emancipation proclamation this momentous decree came as a great beacon light of hope to millions of negro slaves audience yeah who had been seared in the flames of withering injustice it came as a joyous daybreak to end the long night of their captivity hmm\n",
            "\n",
            "but one hundred years later all right the negro still is not free my lord yeah one hundred years later the life of the negro is still sadly crippled by the manacles of segregation and the chains of discrimination hmm one hundred years later all right the negro lives on a lonely island of poverty in the midst of a vast ocean of material prosperity one hundred years later my lord applause the negro is still languished in the corners of american society and finds himself in exile in his own land yes yes and so we’ve come here today to dramatize a shameful condition\n",
            "\n",
            "in a sense we’ve come to our nation’s capital to cash a check when the architects of our republic wrote the magnificent words of the constitution and the declaration of independence yeah they were signing a promissory note to which every american was to fall heir this note was a promise that all men yes black men as well as white men my lord would be guaranteed the unalienable rights of life liberty and the pursuit of happiness it is obvious today that america has defaulted on this promissory note insofar as her citizens of color are concerned my lord instead of honoring this sacred obligation america has given the negro people a bad check a check which has come back marked insufficient funds enthusiastic applause my lord lead on speech speech\n",
            "\n",
            "but we refuse to believe that the bank of justice is bankrupt my lord laughter no no we refuse to believe that there are insufficient funds in the great vaults of opportunity of this nation sure enough and so we’ve come to cash this check yes a check that will give us upon demand the riches of freedom yes and the security of justice yes lord enthusiastic applause\n",
            "\n",
            "we have also come to this hallowed spot my lord to remind america of the fierce urgency of now mhm this is no time my lord to engage in the luxury of cooling off or to take the tranquilizing drug of gradualism applause yes speak on it now is the time yes it is to make real the promises of democracy my lord now is the time to rise from the dark and desolate valley of segregation to the sunlit path of racial justice now is the time applause to lift our nation from the quicksands of racial injustice to the solid rock of brotherhood now is the time yes applause now to make justice a reality for all of god’s children\n",
            "\n",
            "it would be fatal for the nation to overlook the urgency of the moment this sweltering summer of the negro’s legitimate discontent yes will not pass until there is an invigorating autumn of freedom and equality my lord  is not an end but a beginning yes and those who hope that the negro needed to blow off steam and will now be content will have a rude awakening if the nation returns to business as usual enthusiastic applause there will be neither rest nor tranquility in america until the negro is granted his citizenship rights the whirlwinds of revolt will continue to shake the foundations of our nation until the bright day of justice emerges\n",
            "\n",
            "but there is something that i must say to my people who stand on the warm threshold which leads into the palace of justice in the process of gaining our rightful place we must not be guilty of wrongful deeds let us not seek to satisfy our thirst for freedom by drinking from the cup of bitterness and hatred my lord no no no no applause we must forever conduct our struggle on the high plane of dignity and discipline we must not allow our creative protest to degenerate into physical violence my lord again and again no no we must rise to the majestic heights yes of meeting physical force with soul force my lord the marvelous new militancy which has engulfed the negro community must not lead us to a distrust of all white people hmm for many of our white brothers as evidenced by their presence here today have come to realize that their destiny is tied up with our destiny sustained applause and they have come to realize that their freedom is inextricably bound to our freedom we cannot walk alone\n",
            "\n",
            "and as we walk we must make the pledge that we shall always march ahead we cannot turn back there are those who are asking the devotees of civil rights “when will you be satisfied” never we can never be satisfied as long as the negro is the victim of the unspeakable horrors of police brutality yes we can never be satisfied applause as long as our bodies heavy with the fatigue of travel cannot gain lodging in the motels of the highways and the hotels of the cities applause we cannot be satisfied as long as the negro’s basic mobility is from a smaller ghetto to a larger one yes we can never be satisfied as long as our children are stripped of their selfhood and robbed of their dignity by signs stating for whites only applause yes hallelujah we cannot be satisfied as long as a negro in mississippi cannot vote and a negro in new york believes he has nothing for which to vote yeah that’s right let’s go applause no no we are not satisfied and we will not be satisfied until justice rolls down like waters yes and righteousness like a mighty stream applause let’s go tell it\n",
            "\n",
            "i am not unmindful that some of you have come here out of great trials and tribulations my lord some of you have come fresh from narrow jail cells my lord that’s right some of you have come from areas where your quest for freedom left you battered by the storms of persecution yeah yes and staggered by the winds of police brutality you have been the veterans of creative suffering continue to work with the faith hmm that unearned suffering is redemptive go back to mississippi yeah go back to alabama go back to south carolina go back to georgia go back to louisiana go back to the slums and ghettos of our northern cities yes knowing that somehow this situation can and will be changed yes let us not wallow in the valley of despair my lord\n",
            "\n",
            "i say to you today my friends applause so even though we face the difficulties of today and tomorrow uhhuh i still have a dream yes it is a dream deeply rooted in the american dream yes\n",
            "\n",
            "i have a dream mhm that one day yes this nation will rise up and live out the true meaning of its creed hah “we hold these truths to be selfevident that all men are created equal” yeah uhhuh hear hear applause\n",
            "\n",
            "i have a dream that one day on the red hills of georgia yes talk the sons of former slaves and the sons of former slave owners will be able to sit down together at the table of brotherhood\n",
            "\n",
            "i have a dream yes applause that one day even the state of mississippi a state sweltering with the heat of injustice yeah sweltering with the heat of oppression mhm will be transformed into an oasis of freedom and justice\n",
            "\n",
            "i have a dream yeah applause that my four little children well will one day live in a nation where they will not be judged by the color of their skin but by the content of their character my lord i have a dream today enthusiastic applause\n",
            "\n",
            "i have a dream that one day down in alabama with its vicious racists yes yeah with its governor having his lips dripping with the words of “interposition” and “nullification” yes one day right there in alabama little black boys and black girls will be able to join hands with little white boys and white girls as sisters and brothers i have a dream today applause god help him preach\n",
            "\n",
            "i have a dream that one day every valley shall be exalted yes every hill and mountain shall be made low the rough places will be made plain yes and the crooked places will be made straight yes and the glory of the lord shall be revealed cheering and all flesh shall see it together yes lord\n",
            "\n",
            "this is our hope yes yes this is the faith that i go back to the south with yes with this faith my lord we will be able to hew out of the mountain of despair a stone of hope yes all right with this faith yes we will be able to transform the jangling discords of our nation yes into a beautiful symphony of brotherhood talk about it with this faith yes my lord we will be able to work together to pray together to struggle together to go to jail together yes to stand up for freedom together yeah knowing that we will be free one day sustained applause\n",
            "\n",
            "this will be the day this will be the day when all of god’s children yes yeah will be able to sing with new meaning “my country ‘tis of thee yeah yes sweet land of liberty of thee i sing oh yes land where my fathers died land of the pilgrim’s pride yeah from every mountainside let freedom ring” yeah\n",
            "\n",
            "and if america is to be a great nation yes this must become true so let freedom ring yes amen from the prodigious hilltops of new hampshire uhhuh let freedom ring from the mighty mountains of new york let freedom ring from the heightening alleghenies of pennsylvania yes all right let freedom ring yes from the snowcapped rockies of colorado well let freedom ring from the curvaceous slopes of california yes but not only that no let freedom ring from stone mountain of georgia cheering yeah oh yes lord let freedom ring from lookout mountain of tennessee yes let freedom ring from every hill and molehill of mississippi yes from every mountainside yeah sustained applause let freedom ring\n",
            "\n",
            "and when this happens applause let it ring let it ring and when we allow freedom ring let it ring when we let it ring from every village and every hamlet from every state and every city yes lord we will be able to speed up that day when all of god’s children yeah black men yeah and white men yeah jews and gentiles protestants and catholics yes will be able to join hands and sing in the words of the old negro spiritual “free at last yes free at last thank god almighty we are free at last” enthusiastic applause\n"
          ],
          "name": "stdout"
        }
      ]
    },
    {
      "cell_type": "code",
      "metadata": {
        "colab": {
          "base_uri": "https://localhost:8080/"
        },
        "id": "u5wDOGTxFLBt",
        "outputId": "773ac547-f806-4acd-ca6a-baf72616a10c"
      },
      "source": [
        "# remove stopwords\r\n",
        "\r\n",
        "import nltk\r\n",
        "nltk.download(\"stopwords\")\r\n",
        "\r\n",
        "from nltk.corpus import stopwords\r\n",
        "\r\n",
        "mlk_speech = ' '.join([word for word in mlk_speech.split() if word not in (stopwords.words('english'))])\r\n",
        "print (mlk_speech)"
      ],
      "execution_count": 28,
      "outputs": [
        {
          "output_type": "stream",
          "text": [
            "[nltk_data] Downloading package stopwords to /root/nltk_data...\n",
            "[nltk_data]   Unzipping corpora/stopwords.zip.\n",
            "iconic speech lincoln memorial march washington jobs freedom king urged america make real promises democracy king synthesized portions earlier speeches capture necessity change potential hope american society happy join today go history greatest demonstration freedom history nation applause five score years ago great american whose symbolic shadow stand today signed emancipation proclamation momentous decree came great beacon light hope millions negro slaves audience yeah seared flames withering injustice came joyous daybreak end long night captivity hmm one hundred years later right negro still free lord yeah one hundred years later life negro still sadly crippled manacles segregation chains discrimination hmm one hundred years later right negro lives lonely island poverty midst vast ocean material prosperity one hundred years later lord applause negro still languished corners american society finds exile land yes yes we’ve come today dramatize shameful condition sense we’ve come nation’s capital cash check architects republic wrote magnificent words constitution declaration independence yeah signing promissory note every american fall heir note promise men yes black men well white men lord would guaranteed unalienable rights life liberty pursuit happiness obvious today america defaulted promissory note insofar citizens color concerned lord instead honoring sacred obligation america given negro people bad check check come back marked insufficient funds enthusiastic applause lord lead speech speech refuse believe bank justice bankrupt lord laughter refuse believe insufficient funds great vaults opportunity nation sure enough we’ve come cash check yes check give us upon demand riches freedom yes security justice yes lord enthusiastic applause also come hallowed spot lord remind america fierce urgency mhm time lord engage luxury cooling take tranquilizing drug gradualism applause yes speak time yes make real promises democracy lord time rise dark desolate valley segregation sunlit path racial justice time applause lift nation quicksands racial injustice solid rock brotherhood time yes applause make justice reality god’s children would fatal nation overlook urgency moment sweltering summer negro’s legitimate discontent yes pass invigorating autumn freedom equality lord end beginning yes hope negro needed blow steam content rude awakening nation returns business usual enthusiastic applause neither rest tranquility america negro granted citizenship rights whirlwinds revolt continue shake foundations nation bright day justice emerges something must say people stand warm threshold leads palace justice process gaining rightful place must guilty wrongful deeds let us seek satisfy thirst freedom drinking cup bitterness hatred lord applause must forever conduct struggle high plane dignity discipline must allow creative protest degenerate physical violence lord must rise majestic heights yes meeting physical force soul force lord marvelous new militancy engulfed negro community must lead us distrust white people hmm many white brothers evidenced presence today come realize destiny tied destiny sustained applause come realize freedom inextricably bound freedom cannot walk alone walk must make pledge shall always march ahead cannot turn back asking devotees civil rights “when satisfied” never never satisfied long negro victim unspeakable horrors police brutality yes never satisfied applause long bodies heavy fatigue travel cannot gain lodging motels highways hotels cities applause cannot satisfied long negro’s basic mobility smaller ghetto larger one yes never satisfied long children stripped selfhood robbed dignity signs stating whites applause yes hallelujah cannot satisfied long negro mississippi cannot vote negro new york believes nothing vote yeah that’s right let’s go applause satisfied satisfied justice rolls like waters yes righteousness like mighty stream applause let’s go tell unmindful come great trials tribulations lord come fresh narrow jail cells lord that’s right come areas quest freedom left battered storms persecution yeah yes staggered winds police brutality veterans creative suffering continue work faith hmm unearned suffering redemptive go back mississippi yeah go back alabama go back south carolina go back georgia go back louisiana go back slums ghettos northern cities yes knowing somehow situation changed yes let us wallow valley despair lord say today friends applause even though face difficulties today tomorrow uhhuh still dream yes dream deeply rooted american dream yes dream mhm one day yes nation rise live true meaning creed hah “we hold truths selfevident men created equal” yeah uhhuh hear hear applause dream one day red hills georgia yes talk sons former slaves sons former slave owners able sit together table brotherhood dream yes applause one day even state mississippi state sweltering heat injustice yeah sweltering heat oppression mhm transformed oasis freedom justice dream yeah applause four little children well one day live nation judged color skin content character lord dream today enthusiastic applause dream one day alabama vicious racists yes yeah governor lips dripping words “interposition” “nullification” yes one day right alabama little black boys black girls able join hands little white boys white girls sisters brothers dream today applause god help preach dream one day every valley shall exalted yes every hill mountain shall made low rough places made plain yes crooked places made straight yes glory lord shall revealed cheering flesh shall see together yes lord hope yes yes faith go back south yes faith lord able hew mountain despair stone hope yes right faith yes able transform jangling discords nation yes beautiful symphony brotherhood talk faith yes lord able work together pray together struggle together go jail together yes stand freedom together yeah knowing free one day sustained applause day day god’s children yes yeah able sing new meaning “my country ‘tis thee yeah yes sweet land liberty thee sing oh yes land fathers died land pilgrim’s pride yeah every mountainside let freedom ring” yeah america great nation yes must become true let freedom ring yes amen prodigious hilltops new hampshire uhhuh let freedom ring mighty mountains new york let freedom ring heightening alleghenies pennsylvania yes right let freedom ring yes snowcapped rockies colorado well let freedom ring curvaceous slopes california yes let freedom ring stone mountain georgia cheering yeah oh yes lord let freedom ring lookout mountain tennessee yes let freedom ring every hill molehill mississippi yes every mountainside yeah sustained applause let freedom ring happens applause let ring let ring allow freedom ring let ring let ring every village every hamlet every state every city yes lord able speed day god’s children yeah black men yeah white men yeah jews gentiles protestants catholics yes able join hands sing words old negro spiritual “free last yes free last thank god almighty free last” enthusiastic applause\n"
          ],
          "name": "stdout"
        }
      ]
    },
    {
      "cell_type": "code",
      "metadata": {
        "id": "PGI1IorrGgc0"
      },
      "source": [
        ""
      ],
      "execution_count": null,
      "outputs": []
    }
  ]
}