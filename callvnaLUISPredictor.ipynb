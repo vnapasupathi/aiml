{
  "nbformat": 4,
  "nbformat_minor": 0,
  "metadata": {
    "colab": {
      "name": "callvnaLUISPredictor.ipynb",
      "provenance": [],
      "collapsed_sections": [],
      "authorship_tag": "ABX9TyNhARRXTNjXZg8FK6xIaOkr",
      "include_colab_link": true
    },
    "kernelspec": {
      "name": "python3",
      "display_name": "Python 3"
    }
  },
  "cells": [
    {
      "cell_type": "markdown",
      "metadata": {
        "id": "view-in-github",
        "colab_type": "text"
      },
      "source": [
        "<a href=\"https://colab.research.google.com/github/vnapasupathi/aiml/blob/main/callvnaLUISPredictor.ipynb\" target=\"_parent\"><img src=\"https://colab.research.google.com/assets/colab-badge.svg\" alt=\"Open In Colab\"/></a>"
      ]
    },
    {
      "cell_type": "code",
      "metadata": {
        "id": "JQOXAF3H0JwO"
      },
      "source": [
        "endpoint = 'https://vnaluis.cognitiveservices.azure.com/luis/prediction/v3.0/apps/a88453cc-e822-44a4-beaf-9976a8ad4d92/slots/production/predict?subscription-key=460718759bf142cfaca8e80e5ad57803&verbose=true&show-all-intents=true&log=true&query='"
      ],
      "execution_count": 8,
      "outputs": []
    },
    {
      "cell_type": "code",
      "metadata": {
        "id": "TZz3-6eQ0Tj3"
      },
      "source": [
        "import json, requests"
      ],
      "execution_count": 9,
      "outputs": []
    },
    {
      "cell_type": "code",
      "metadata": {
        "colab": {
          "base_uri": "https://localhost:8080/"
        },
        "id": "0C_J3ZhW0ZJ6",
        "outputId": "54098d08-add6-45ed-ea44-3ded158eefd9"
      },
      "source": [
        "query = input('Please write the text : ')\r\n",
        "\r\n",
        "request_url = endpoint + query.replace(' ', '+')\r\n",
        "\r\n",
        "response = requests.get(request_url)\r\n",
        "jsonData = response.content.decode('UTF-8')\r\n",
        "data = json.loads(jsonData)\r\n",
        "\r\n",
        "print (data)"
      ],
      "execution_count": 11,
      "outputs": [
        {
          "output_type": "stream",
          "text": [
            "Please write the text : close the shaedes\n",
            "{'query': 'close the shaedes', 'prediction': {'topIntent': 'CloseShades', 'intents': {'CloseShades': {'score': 0.8478704}, 'None': {'score': 0.200173259}, 'OpenShades': {'score': 0.00600386877}}, 'entities': {'shades': ['shaedes'], '$instance': {'shades': [{'type': 'shades', 'text': 'shaedes', 'startIndex': 10, 'length': 7, 'score': 0.6859742, 'modelTypeId': 1, 'modelType': 'Entity Extractor', 'recognitionSources': ['model']}]}}}}\n"
          ],
          "name": "stdout"
        }
      ]
    },
    {
      "cell_type": "code",
      "metadata": {
        "id": "v2IFtJ2v04IT"
      },
      "source": [
        ""
      ],
      "execution_count": null,
      "outputs": []
    }
  ]
}