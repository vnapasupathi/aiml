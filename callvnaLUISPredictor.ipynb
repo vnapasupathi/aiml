{
  "nbformat": 4,
  "nbformat_minor": 0,
  "metadata": {
    "colab": {
      "name": "callvnaLUISPredictor.ipynb",
      "provenance": [],
      "collapsed_sections": [],
      "authorship_tag": "ABX9TyOBuBemRSHgI2gpnW90iBOJ",
      "include_colab_link": true
    },
    "kernelspec": {
      "name": "python3",
      "display_name": "Python 3"
    }
  },
  "cells": [
    {
      "cell_type": "markdown",
      "metadata": {
        "id": "view-in-github",
        "colab_type": "text"
      },
      "source": [
        "<a href=\"https://colab.research.google.com/github/vnapasupathi/aiml/blob/main/callvnaLUISPredictor.ipynb\" target=\"_parent\"><img src=\"https://colab.research.google.com/assets/colab-badge.svg\" alt=\"Open In Colab\"/></a>"
      ]
    },
    {
      "cell_type": "code",
      "metadata": {
        "id": "JQOXAF3H0JwO"
      },
      "source": [
        "# Create LUIS service including creating couple of Intents and Entities and Example text. Then Train Test and publish the model. \r\n",
        "# Provide the production Endpoint here\r\n",
        "endpoint = 'https://vnaluis.cognitiveservices.azure.com/luis/prediction/v3.0/apps/a88453cc-e822-44a4-beaf-9976a8ad4d92/slots/production/predict?subscription-key=460718759bf142cfaca8e80e5ad57803&verbose=true&show-all-intents=true&log=true&query='"
      ],
      "execution_count": 8,
      "outputs": []
    },
    {
      "cell_type": "code",
      "metadata": {
        "id": "TZz3-6eQ0Tj3"
      },
      "source": [
        "import json, requests"
      ],
      "execution_count": 9,
      "outputs": []
    },
    {
      "cell_type": "code",
      "metadata": {
        "colab": {
          "base_uri": "https://localhost:8080/"
        },
        "id": "0C_J3ZhW0ZJ6",
        "outputId": "f40e896a-a783-47ba-e645-0fb1d237b298"
      },
      "source": [
        "query = input('Please write the text : ')\r\n",
        "\r\n",
        "request_url = endpoint + query.replace(' ', '+')\r\n",
        "\r\n",
        "response = requests.get(request_url)\r\n",
        "jsonData = response.content.decode('UTF-8')\r\n",
        "data = json.loads(jsonData)\r\n",
        "\r\n",
        "print (data)"
      ],
      "execution_count": 14,
      "outputs": [
        {
          "output_type": "stream",
          "text": [
            "Please write the text : good morning\n",
            "{'query': 'good morning', 'prediction': {'topIntent': 'None', 'intents': {'None': {'score': 0.190662488}, 'OpenShades': {'score': 0.1366243}, 'CloseShades': {'score': 0.044501}}, 'entities': {}}}\n"
          ],
          "name": "stdout"
        }
      ]
    },
    {
      "cell_type": "code",
      "metadata": {
        "colab": {
          "base_uri": "https://localhost:8080/"
        },
        "id": "v2IFtJ2v04IT",
        "outputId": "7b2cd5ec-6c7e-4362-8fa8-bdde43a63d54"
      },
      "source": [
        "intent = data['prediction']['topIntent']\r\n",
        "\r\n",
        "if (intent == 'OpenShades'):\r\n",
        "  print ('Opening the shades')\r\n",
        "elif (intent == 'CloseShades'):\r\n",
        "  print ('Closing the shades')\r\n",
        "else:\r\n",
        "  print('sorry I didnt catch the text')\r\n",
        "\r\n"
      ],
      "execution_count": 15,
      "outputs": [
        {
          "output_type": "stream",
          "text": [
            "sorry I didnt catch the text\n"
          ],
          "name": "stdout"
        }
      ]
    }
  ]
}