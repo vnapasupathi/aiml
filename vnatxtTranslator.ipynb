{
  "nbformat": 4,
  "nbformat_minor": 0,
  "metadata": {
    "colab": {
      "name": "vnatxtTranslator.ipynb",
      "provenance": [],
      "collapsed_sections": [],
      "authorship_tag": "ABX9TyNMM4F/xNjFswXsIM0mztfh",
      "include_colab_link": true
    },
    "kernelspec": {
      "name": "python3",
      "display_name": "Python 3"
    }
  },
  "cells": [
    {
      "cell_type": "markdown",
      "metadata": {
        "id": "view-in-github",
        "colab_type": "text"
      },
      "source": [
        "<a href=\"https://colab.research.google.com/github/vnapasupathi/aiml/blob/main/vnatxtTranslator.ipynb\" target=\"_parent\"><img src=\"https://colab.research.google.com/assets/colab-badge.svg\" alt=\"Open In Colab\"/></a>"
      ]
    },
    {
      "cell_type": "code",
      "metadata": {
        "id": "LufPBij7YOCd"
      },
      "source": [
        "key = '36808dddcaa74c85bd7757dda949de32'\r\n",
        "translatorEndPointURL = 'https://api.cognitive.microsofttranslator.com'\r\n",
        "translatorURL = 'api.cognitive.microsofttranslator.com'"
      ],
      "execution_count": 35,
      "outputs": []
    },
    {
      "cell_type": "code",
      "metadata": {
        "id": "9Pz_7kPN8_K3"
      },
      "source": [
        "import urllib, json, urllib.error, urllib.request, http.client, urllib.parse\r\n",
        "\r\n",
        "headers = {\r\n",
        "    'Ocp-Apim-Subscription-Key' : key,\r\n",
        "    'Content-Type' : 'application/json',\r\n",
        "    'Ocp-Apim-Subscription-Region' : 'centralindia'\r\n",
        "}\r\n",
        "\r\n",
        "body = [{\r\n",
        "    'Text' : 'Vanakkam. '\r\n",
        "},\r\n",
        "{\r\n",
        "    'Text' : 'Female : {Ithu oru nila kaalam Iravugal kanaa kaanum Aadai kooda bhaaram aagum Ehh..paarijaadham eeram aagum Imalaiyae vasantha vaanam Paravaiyae varugavae'\r\n",
        "},\r\n",
        "{\r\n",
        "    'Text' : 'Female : Ithu oru nila kaalam Iravugal kanaa kaanum Chorus : ………………………….'\r\n",
        "},\r\n",
        "{\r\n",
        "    'Text' : 'Female : Paavai kandaalae Nilavu neliyaatho Azhagai paarthalae ohoo.. Aruvi nimiratho'\r\n",
        "},\r\n",
        "{\r\n",
        "    'Text' : 'Female : Vandu vanthu udaikaatha Poovum neeyae..ooohooo… Yaarum vanthu nadakaatha Saalai neeyae Ullangkaiyil sorgam vanthu Uranga kandaalae'\r\n",
        "},\r\n",
        "{\r\n",
        "    'Text' : 'Female : Ithu oru nila kaalam Iravugal kanaa kaanum'\r\n",
        "},\r\n",
        "{\r\n",
        "    'Text' : ' Female : Thanga dhegangal Thulli aadaatho Raaja megangal..oohooo.. Poovai thoovaatho'\r\n",
        "}\r\n",
        "#Female : Kannaadi unai kandu\r\n",
        "#Kangal koosum..ooohooo…\r\n",
        "#Vaanavillum naga chaayam\r\n",
        "#Vanthu poosum..oohooo…\r\n",
        "#Paruva pookal puruvam asaithaal\r\n",
        "#Bhoomi sutraathu\r\n",
        "\r\n",
        "#Female : Ithu oru nila kaalam\r\n",
        "#Iravugal kanaa kaanum\r\n",
        "#Aadai kooda bhaaram aagum\r\n",
        "#Ehh..paarijaadham eeram aagum\r\n",
        "#Imalaiyae vasantha vaanam\r\n",
        "#Paravaiyae varugavae\r\n",
        "\r\n",
        "#Female : Ithu oru nila kaalam\r\n",
        "#Iravugal kanaa kaanum'\r\n",
        "#}\r\n",
        "]\r\n",
        "\r\n",
        "params = urllib.parse.urlencode({\r\n",
        "    'api-version' : '3.0',\r\n",
        "    'to' : 'ta'\r\n",
        "})"
      ],
      "execution_count": 51,
      "outputs": []
    },
    {
      "cell_type": "code",
      "metadata": {
        "colab": {
          "base_uri": "https://localhost:8080/"
        },
        "id": "I849RrNBk3rG",
        "outputId": "d047f0bc-3cad-4e77-c6bf-8d241f1edce3"
      },
      "source": [
        "try: \r\n",
        "  conn = http.client.HTTPSConnection(translatorURL)\r\n",
        "  conn.request(\"POST\", \"/translate?%s\" % params, str(body).encode('utf-8'), headers)\r\n",
        "  response = conn.getresponse()\r\n",
        "  jsonData = response.read().decode(\"UTF-8\")\r\n",
        "  data = json.loads(jsonData)\r\n",
        "  print(data)\r\n",
        "  conn.close()\r\n",
        "except Exception as ex:\r\n",
        "  print (ex)"
      ],
      "execution_count": 53,
      "outputs": [
        {
          "output_type": "stream",
          "text": [
            "[{'detectedLanguage': {'language': 'en', 'score': 1.0}, 'translations': [{'text': 'வானகம் . ', 'to': 'ta'}]}, {'detectedLanguage': {'language': 'fil', 'score': 0.81}, 'translations': [{'text': 'பெண் : {இது ஒரு தெரியும் இராவ்கல் ரைட்ஸ் அட கூட கூட பாராம ஆ.. பரிஜாதம் ஈறு மலையே வசந்த வானம் பரவையே வருகவே', 'to': 'ta'}]}, {'detectedLanguage': {'language': 'fil', 'score': 0.78}, 'translations': [{'text': 'பெண்: அவர்கள் ஊகித்தான் இராவணல் கங்காரு கோரஸ் : ....', 'to': 'ta'}]}, {'detectedLanguage': {'language': 'en', 'score': 0.9}, 'translations': [{'text': 'பெண் : பாவை கண்டலே நிலவு நீலியாதோ அழகு பார்தாலே ஓ.. அரூவி நிமிரதோ', 'to': 'ta'}]}, {'detectedLanguage': {'language': 'en', 'score': 1.0}, 'translations': [{'text': 'பெண் : வந்து வந்து உடைக்காடா பூவும் நீயே.... oooooo... யாரும் வந்து நடகாதா சாலை நீயே உள்ளங்கையில ோர் கங்குல் வந்து உரங்க கண்டலே', 'to': 'ta'}]}, {'detectedLanguage': {'language': 'fil', 'score': 0.75}, 'translations': [{'text': 'பெண்: இது அவங்க ஒரு தான் அவங்க தான் அவங்க அறிவு இராவ்கல் சரியான', 'to': 'ta'}]}, {'detectedLanguage': {'language': 'fi', 'score': 1.0}, 'translations': [{'text': ' பெண் : தங்க டங்கள் துளி ஆடதோ ராச மேகங்க.... ooooo.. பூவை த்தூவாதோ', 'to': 'ta'}]}]\n"
          ],
          "name": "stdout"
        }
      ]
    },
    {
      "cell_type": "code",
      "metadata": {
        "id": "8Nuttjw5nCDK"
      },
      "source": [
        ""
      ],
      "execution_count": null,
      "outputs": []
    }
  ]
}