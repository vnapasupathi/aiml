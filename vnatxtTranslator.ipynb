{
  "nbformat": 4,
  "nbformat_minor": 0,
  "metadata": {
    "colab": {
      "name": "vnatxtTranslator.ipynb",
      "provenance": [],
      "collapsed_sections": [],
      "authorship_tag": "ABX9TyPIfBGfnX8Is1+x23/3SIIz",
      "include_colab_link": true
    },
    "kernelspec": {
      "name": "python3",
      "display_name": "Python 3"
    }
  },
  "cells": [
    {
      "cell_type": "markdown",
      "metadata": {
        "id": "view-in-github",
        "colab_type": "text"
      },
      "source": [
        "<a href=\"https://colab.research.google.com/github/vnapasupathi/aiml/blob/main/vnatxtTranslator.ipynb\" target=\"_parent\"><img src=\"https://colab.research.google.com/assets/colab-badge.svg\" alt=\"Open In Colab\"/></a>"
      ]
    },
    {
      "cell_type": "code",
      "metadata": {
        "id": "LufPBij7YOCd"
      },
      "source": [
        "keys = '7a2c6af04c064c71a366191d90c5eba3'\r\n",
        "translatorEndPointURL = 'https://api.cognitive.microsofttranslator.com/'\r\n",
        "translatorURL = 'api.cognitive.microsofttranslator.com'"
      ],
      "execution_count": null,
      "outputs": []
    }
  ]
}