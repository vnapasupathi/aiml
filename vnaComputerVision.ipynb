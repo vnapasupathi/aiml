{
  "nbformat": 4,
  "nbformat_minor": 0,
  "metadata": {
    "colab": {
      "name": "vnaComputerVision.ipynb",
      "provenance": [],
      "collapsed_sections": [],
      "authorship_tag": "ABX9TyNxdFf2cffpjktpr+gJst/n",
      "include_colab_link": true
    },
    "kernelspec": {
      "name": "python3",
      "display_name": "Python 3"
    }
  },
  "cells": [
    {
      "cell_type": "markdown",
      "metadata": {
        "id": "view-in-github",
        "colab_type": "text"
      },
      "source": [
        "<a href=\"https://colab.research.google.com/github/vnapasupathi/aiml/blob/main/vnaComputerVision.ipynb\" target=\"_parent\"><img src=\"https://colab.research.google.com/assets/colab-badge.svg\" alt=\"Open In Colab\"/></a>"
      ]
    },
    {
      "cell_type": "code",
      "metadata": {
        "id": "anH0cZdKfsdK"
      },
      "source": [
        "# Create computer vision Cognitive api in Azure. Grab the key and paste below - Pasupathi N \r\n",
        "key = '6ea0edc845ad4bac97dcaa38f54926fd'"
      ],
      "execution_count": 3,
      "outputs": []
    },
    {
      "cell_type": "code",
      "metadata": {
        "colab": {
          "base_uri": "https://localhost:8080/"
        },
        "id": "956YfAmqfxrp",
        "outputId": "fdbd192e-e0f6-44cd-dfa8-7503d269a1b1"
      },
      "source": [
        "import urllib, requests, json, urllib.parse, http.client\r\n",
        "\r\n",
        "headers = {\r\n",
        "    'Ocp-Apim-Subscription-key' : key\r\n",
        "}\r\n",
        "\r\n",
        "params = urllib.parse.urlencode({\r\n",
        "    'visualFeatures' : 'description',\r\n",
        "    'details' : 'landmarks',\r\n",
        "    'language' : 'en'\r\n",
        "})\r\n",
        "\r\n",
        "url = 'https://ichef.bbci.co.uk/news/976/cpsprodpb/B825/production/_111014174_gettyimages-1202965528.jpg'\r\n",
        "url = 'https://timesofindia.indiatimes.com/thumb/msid-71498403,imgsize-672528,width-400,resizemode-4/71498403.jpg'\r\n",
        "url = 'https://timesofindia.indiatimes.com/thumb/msid-71379999,imgsize-570343,width-400,resizemode-4/71379999.jpg'\r\n",
        "url = 'https://images.livemint.com/rf/Image-621x414/LiveMint/Period2/2018/12/22/Photos/Processed/rajini-kSWE--621x414@LiveMint.JPG'\r\n",
        "url = 'https://static.toiimg.com/thumb/msid-76976026,width-800,height-600,resizemode-75,imgsize-108773,pt-32,y_pad-40/76976026.jpg'\r\n",
        "body = {\r\n",
        "    'url' : url\r\n",
        "}\r\n",
        "\r\n",
        "try:\r\n",
        "  conn = http.client.HTTPSConnection('vnacomputervision.cognitiveservices.azure.com')\r\n",
        "  conn.request(\"POST\", '/vision/v3.1/analyze?%s' % params, str(body), headers)\r\n",
        "  response = conn.getresponse()\r\n",
        "  jsonData = response.read()\r\n",
        "  data = json.loads(jsonData)\r\n",
        "  print (data['description']['captions'])\r\n",
        "  conn.close()\r\n",
        "except Exception as ex:\r\n",
        "  print (ex)"
      ],
      "execution_count": 42,
      "outputs": [
        {
          "output_type": "stream",
          "text": [
            "[{'text': 'Vadivelu with a mustache and a hat', 'confidence': 0.4358479082584381}]\n"
          ],
          "name": "stdout"
        }
      ]
    },
    {
      "cell_type": "code",
      "metadata": {
        "colab": {
          "base_uri": "https://localhost:8080/"
        },
        "id": "Z37Q5POjkOr0",
        "outputId": "f41f4321-c768-406b-e51f-45c10edec24a"
      },
      "source": [
        "headers = {\r\n",
        "    'Ocp-Apim-Subscription-key' : key\r\n",
        "}\r\n",
        "\r\n",
        "#params = urllib.parse.urlencode({\r\n",
        "#    'visualFeatures' : 'description',\r\n",
        "#    'details' : 'landmarks',\r\n",
        "#    'language' : 'en'\r\n",
        "#})\r\n",
        "\r\n",
        "params = urllib.parse.urlencode({\r\n",
        "    'maxcandidates' : 2,\r\n",
        "    'language' : 'en'\r\n",
        "})\r\n",
        "\r\n",
        "url = 'https://timesofindia.indiatimes.com/thumb/msid-71498403,imgsize-672528,width-400,resizemode-4/71498403.jpg'\r\n",
        "url = 'https://timesofindia.indiatimes.com/thumb/msid-71379999,imgsize-570343,width-400,resizemode-4/71379999.jpg'\r\n",
        "url = 'https://images.livemint.com/rf/Image-621x414/LiveMint/Period2/2018/12/22/Photos/Processed/rajini-kSWE--621x414@LiveMint.JPG'\r\n",
        "url = 'https://static.toiimg.com/thumb/msid-76976026,width-800,height-600,resizemode-75,imgsize-108773,pt-32,y_pad-40/76976026.jpg'\r\n",
        "url = 'https://ichef.bbci.co.uk/news/976/cpsprodpb/B825/production/_111014174_gettyimages-1202965528.jpg'\r\n",
        "\r\n",
        "body = {\r\n",
        "    'url' : url\r\n",
        "}\r\n",
        "\r\n",
        "try:\r\n",
        "  conn = http.client.HTTPSConnection('vnacomputervision.cognitiveservices.azure.com')\r\n",
        "  conn.request(\"POST\", '/vision/v3.1/describe?%s' % params, str(body), headers)\r\n",
        "  response = conn.getresponse()\r\n",
        "  jsonData = response.read()\r\n",
        "  data = json.loads(jsonData)\r\n",
        "  #print (data['description']['captions'])\r\n",
        "  print(json.dumps(data, sort_keys=True, indent=2))\r\n",
        "  conn.close()\r\n",
        "except Exception as ex:\r\n",
        "  print (ex)"
      ],
      "execution_count": 47,
      "outputs": [
        {
          "output_type": "stream",
          "text": [
            "{\n",
            "  \"description\": {\n",
            "    \"captions\": [\n",
            "      {\n",
            "        \"confidence\": 0.4992421567440033,\n",
            "        \"text\": \"a man and woman standing in front of a white building\"\n",
            "      }\n",
            "    ],\n",
            "    \"tags\": [\n",
            "      \"person\",\n",
            "      \"outdoor\",\n",
            "      \"man\",\n",
            "      \"standing\",\n",
            "      \"suit\",\n",
            "      \"dressed\"\n",
            "    ]\n",
            "  },\n",
            "  \"metadata\": {\n",
            "    \"format\": \"Jpeg\",\n",
            "    \"height\": 549,\n",
            "    \"width\": 976\n",
            "  },\n",
            "  \"requestId\": \"87b348d9-c4d9-48f3-951d-51cf0dcd1145\"\n",
            "}\n"
          ],
          "name": "stdout"
        }
      ]
    },
    {
      "cell_type": "code",
      "metadata": {
        "id": "Behtg8SnPQXh"
      },
      "source": [
        ""
      ],
      "execution_count": null,
      "outputs": []
    }
  ]
}