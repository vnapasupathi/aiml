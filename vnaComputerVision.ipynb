{
  "nbformat": 4,
  "nbformat_minor": 0,
  "metadata": {
    "colab": {
      "name": "vnaComputerVision.ipynb",
      "provenance": [],
      "collapsed_sections": [],
      "authorship_tag": "ABX9TyPca0ll1IWDAub7dulVgbF3",
      "include_colab_link": true
    },
    "kernelspec": {
      "name": "python3",
      "display_name": "Python 3"
    }
  },
  "cells": [
    {
      "cell_type": "markdown",
      "metadata": {
        "id": "view-in-github",
        "colab_type": "text"
      },
      "source": [
        "<a href=\"https://colab.research.google.com/github/vnapasupathi/aiml/blob/main/vnaComputerVision.ipynb\" target=\"_parent\"><img src=\"https://colab.research.google.com/assets/colab-badge.svg\" alt=\"Open In Colab\"/></a>"
      ]
    },
    {
      "cell_type": "code",
      "metadata": {
        "id": "anH0cZdKfsdK"
      },
      "source": [
        "key = '6ea0edc845ad4bac97dcaa38f54926fd'"
      ],
      "execution_count": 18,
      "outputs": []
    },
    {
      "cell_type": "code",
      "metadata": {
        "colab": {
          "base_uri": "https://localhost:8080/"
        },
        "id": "956YfAmqfxrp",
        "outputId": "b91c3bd1-f3f4-4e40-a2ce-c61597526431"
      },
      "source": [
        "import urllib, requests, json, urllib.parse, http.client\r\n",
        "\r\n",
        "headers = {\r\n",
        "    'Ocp-Apim-Subscription-key' : key\r\n",
        "}\r\n",
        "\r\n",
        "body = {\r\n",
        "    'url' : 'https://ichef.bbci.co.uk/news/976/cpsprodpb/B825/production/_111014174_gettyimages-1202965528.jpg'\r\n",
        "}\r\n",
        "\r\n",
        "params = urllib.parse.urlencode({\r\n",
        "    'visualFeatures' : 'description',\r\n",
        "    'details' : 'landmarks',\r\n",
        "    'language' : 'en'\r\n",
        "})\r\n",
        "\r\n",
        "\r\n",
        "try:\r\n",
        "  conn = http.client.HTTPSConnection('vnacomputervision.cognitiveservices.azure.com')\r\n",
        "  #conn = http.client.HTTPSConnection('southeastasia.api.cognitive.microsoft.com')\r\n",
        "  conn.request(\"POST\", '/vision/v3.1/analyze?%s' % params, str(body), headers)\r\n",
        "  response = conn.getresponse()\r\n",
        "  jsonData = response.read()\r\n",
        "  data = json.loads(jsonData)\r\n",
        "  print (data)\r\n",
        "  conn.close()\r\n",
        "except Exception as ex:\r\n",
        "  print (ex)"
      ],
      "execution_count": 20,
      "outputs": [
        {
          "output_type": "stream",
          "text": [
            "{'categories': [{'name': 'people_', 'score': 0.65234375, 'detail': {'celebrities': [{'name': 'Donald Trump', 'confidence': 0.9894009232521057, 'faceRectangle': {'left': 220, 'top': 180, 'width': 64, 'height': 64}}, {'name': 'Melania Trump', 'confidence': 0.867300808429718, 'faceRectangle': {'left': 436, 'top': 186, 'width': 54, 'height': 54}}]}}], 'description': {'tags': ['person', 'outdoor', 'man', 'standing', 'suit', 'dressed'], 'captions': [{'text': 'Donald Trump, Melania Trump are posing for a picture', 'confidence': 0.4992421567440033}]}, 'requestId': 'ff51a641-17d9-43cf-aa94-8f94327c1ba1', 'metadata': {'height': 549, 'width': 976, 'format': 'Jpeg'}}\n"
          ],
          "name": "stdout"
        }
      ]
    },
    {
      "cell_type": "code",
      "metadata": {
        "id": "Z37Q5POjkOr0"
      },
      "source": [
        ""
      ],
      "execution_count": null,
      "outputs": []
    }
  ]
}